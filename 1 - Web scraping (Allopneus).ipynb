{
 "cells": [
  {
   "cell_type": "markdown",
   "id": "96ecbdd2",
   "metadata": {},
   "source": [
    "### 1 - Collecte des données"
   ]
  },
  {
   "cell_type": "code",
   "execution_count": 1,
   "id": "284389a6",
   "metadata": {},
   "outputs": [
    {
     "data": {
      "application/javascript": [
       "IPython.notebook.set_autosave_interval(0)"
      ]
     },
     "metadata": {},
     "output_type": "display_data"
    },
    {
     "name": "stdout",
     "output_type": "stream",
     "text": [
      "Autosave disabled\n",
      "Nom de l'entreprise : CentralePneus.fr \n",
      "Nombre d'avis : Total : 258 512\n",
      "Moyenne des notes : 4,3\n"
     ]
    }
   ],
   "source": [
    "# Blocage de la sauvegarde automatique.\n",
    "%autosave 0\n",
    "\n",
    "# Importation des librairies nécessaires.\n",
    "from bs4 import BeautifulSoup as bs\n",
    "import requests \n",
    "import time\n",
    "import pandas as pd\n",
    "import datetime as dt\n",
    "\n",
    "# Création de l'objet BeautifulSoup dans une variable nommée soup.\n",
    "url = \"https://fr.trustpilot.com/review/www.centralepneus.fr\"\n",
    "page = requests.get(url)  \n",
    "soup = bs(page.content, \"lxml\")\n",
    "\n",
    "# Récupération des informations clés de la page.\n",
    "nom_entreprise = soup.find('span', attrs = {'class' : \"typography_display-s__qOjh6 typography_appearance-default__AAY17 title_displayName__TtDDM\"}).text\n",
    "nombre_avis = soup.find('p', attrs = {'class' : \"typography_body-l__KUYFJ typography_appearance-default__AAY17\"}).text\n",
    "moyenne_note = soup.find('span', attrs = {'class' : \"typography_heading-m__T_L_X typography_appearance-default__AAY17\"}).text\n",
    "print(\"Nom de l'entreprise :\", nom_entreprise)\n",
    "print(\"Nombre d'avis :\", nombre_avis)\n",
    "print(\"Moyenne des notes :\", moyenne_note)"
   ]
  },
  {
   "cell_type": "code",
   "execution_count": 2,
   "id": "0410df9d",
   "metadata": {},
   "outputs": [],
   "source": [
    "# Collecte des informations sur Allopneus:\n",
    "url = \"https://fr.trustpilot.com/review/www.centralepneus.fr\"\n",
    "from_page = 1\n",
    "to_page = 9866\n",
    "nom_clients,nombre_avis_publiés,notes,titres,commentaires,date_expériences,date_publications,localisations,réponses,date_réponses,pays,statut_vérifié = [],[],[],[],[],[],[],[],[],[],[],[]  \n",
    "\n",
    "for page in range(from_page, to_page + 1):\n",
    "    url_page = f'{url}?page={page}'\n",
    "    response = requests.get(url_page)\n",
    "    soup = bs(response.content, 'html.parser') \n",
    "    avis_client = soup.find_all('div', attrs = {'class': \"styles_reviewCardInner__EwDq2\"})\n",
    "\n",
    "    for avis in avis_client: \n",
    "        nom_client_element = avis.find('span',class_='typography_heading-xxs__QKBS8 typography_appearance-default__AAY17')\n",
    "        nom_client = nom_client_element.text.strip() if nom_client_element else None\n",
    "        nom_clients.append(nom_client)\n",
    "        nombre_avis_publié = avis.find('span',class_='typography_body-m__xgxZ_ typography_appearance-subtle__8_H2l').text.strip() \n",
    "        nombre_avis_publiés.append(nombre_avis_publié)\n",
    "        note = avis.find(class_ = \"star-rating_starRating__4rrcf star-rating_medium__iN6Ty\").findChild() \n",
    "        notes.append(note[\"alt\"])\n",
    "        titre = avis.find('h2',class_='typography_heading-s__f7029 typography_appearance-default__AAY17').text.strip() \n",
    "        titres.append(titre)\n",
    "        commentaire_element = avis.find('p',class_='typography_body-l__KUYFJ typography_appearance-default__AAY17 typography_color-black__5LYEn')\n",
    "        commentaire = commentaire_element.text.strip() if commentaire_element else None   \n",
    "        commentaires.append(commentaire)\n",
    "        pays_element = avis.find(lambda tag: tag.name=='svg' and tag.get('class') == ['icon_icon__ECGRl'])\n",
    "        verif_element = avis.find(lambda tag: tag.name=='svg' and tag.get('class') == ['icon_icon__ECGRl']).find_next('svg') if avis.find(lambda tag: tag.name=='svg' and tag.get('class') == ['icon_icon__ECGRl']) else None\n",
    "        if pays_element:\n",
    "            pays.append(pays_element.find_next('span').text.strip())\n",
    "        else:\n",
    "            pays.append(None)\n",
    "        if verif_element:\n",
    "            statut_vérifié.append(1) if verif_element.find_next('span').text.strip() == 'Vérifié' else statut_vérifié.append(0)\n",
    "        else:\n",
    "            statut_vérifié.append(0)     \n",
    "        date_expérience_element = avis.find('p',class_='typography_body-m__xgxZ_ typography_appearance-default__AAY17') \n",
    "        date_expérience = date_expérience_element.text.strip() if date_expérience_element else None\n",
    "        date_expériences.append(date_expérience)\n",
    "        date_publication_element = avis.find('time', class_=\"\")\n",
    "        if date_publication_element:\n",
    "            date_publication = date_publication_element.get('datetime')\n",
    "            date_publications.append(date_publication)\n",
    "        else:\n",
    "            date_publications.append(None)  \n",
    "        réponse_element = avis.find('p', class_='typography_body-m__xgxZ_ typography_appearance-default__AAY17 styles_message__shHhX')\n",
    "        if réponse_element:\n",
    "            réponse = réponse_element.text.strip()\n",
    "            réponses.append(réponse)\n",
    "        else:\n",
    "            réponses.append(None)     \n",
    "        date_réponse_element = avis.find('time', class_='typography_body-m__xgxZ_ typography_appearance-subtle__8_H2l styles_replyDate__Iem0_')  \n",
    "        if date_réponse_element:\n",
    "            date_réponse = date_réponse_element.get('datetime')\n",
    "            date_réponses.append(date_réponse)\n",
    "        else:\n",
    "            date_réponses.append(None)\n",
    "        time.sleep(0.2)\n",
    "\n",
    "# Intégration des données dans un DataFrame.\n",
    "df_Centralepneus = pd.DataFrame(list(zip(nom_clients,nombre_avis_publiés,notes,titres,commentaires,date_expériences,date_publications,réponses,date_réponses,pays,statut_vérifié)),\n",
    "               columns =[\"Client\",\"Nombre d'avis publié\",\"Note\",\"Titres\",\"Commentaire\",\"Date de l'expérience\",\"Date de publication\",\"Réponse\",\"Date de réponse\",\"Pays\",\"Vérifications\"])\n",
    "\n",
    "# Ajout du nom de l'entreprise évaluée dans nouvelle colonne.\n",
    "df_Centralepneus[\"Entreprise\"] = nom_entreprise"
   ]
  },
  {
   "cell_type": "code",
   "execution_count": 3,
   "id": "095db2c5",
   "metadata": {},
   "outputs": [
    {
     "name": "stdout",
     "output_type": "stream",
     "text": [
      "<class 'pandas.core.frame.DataFrame'>\n",
      "RangeIndex: 197140 entries, 0 to 197139\n",
      "Data columns (total 12 columns):\n",
      " #   Column                Non-Null Count   Dtype \n",
      "---  ------                --------------   ----- \n",
      " 0   Client                197140 non-null  object\n",
      " 1   Nombre d'avis publié  197140 non-null  object\n",
      " 2   Note                  197140 non-null  object\n",
      " 3   Titres                197140 non-null  object\n",
      " 4   Commentaire           159138 non-null  object\n",
      " 5   Date de l'expérience  197140 non-null  object\n",
      " 6   Date de publication   197140 non-null  object\n",
      " 7   Réponse               33922 non-null   object\n",
      " 8   Date de réponse       33922 non-null   object\n",
      " 9   Pays                  197137 non-null  object\n",
      " 10  Vérifications         197140 non-null  int64 \n",
      " 11  Entreprise            197140 non-null  object\n",
      "dtypes: int64(1), object(11)\n",
      "memory usage: 18.0+ MB\n"
     ]
    }
   ],
   "source": [
    "# Vérification : est-ce que l'ensemble des avis a bien été collecté ?\n",
    "df_Centralepneus.info()\n",
    "\n",
    "# Exportation du DataFrame dans un fichier Excel.\n",
    "df_Centralepneus.to_csv(r'C:\\Users\\micka\\OneDrive\\Bureau\\df_Centralepneus.csv',index=False)"
   ]
  }
 ],
 "metadata": {
  "kernelspec": {
   "display_name": "Python 3 (ipykernel)",
   "language": "python",
   "name": "python3"
  },
  "language_info": {
   "codemirror_mode": {
    "name": "ipython",
    "version": 3
   },
   "file_extension": ".py",
   "mimetype": "text/x-python",
   "name": "python",
   "nbconvert_exporter": "python",
   "pygments_lexer": "ipython3",
   "version": "3.10.9"
  }
 },
 "nbformat": 4,
 "nbformat_minor": 5
}
