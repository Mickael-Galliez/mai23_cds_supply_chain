{
 "cells": [
  {
   "cell_type": "markdown",
   "id": "1533c41c",
   "metadata": {},
   "source": [
    "# FEATURE ENGINEERING"
   ]
  },
  {
   "cell_type": "markdown",
   "id": "42e6f2dc",
   "metadata": {},
   "source": [
    "## Libraries & Data Cleaning"
   ]
  },
  {
   "cell_type": "code",
   "execution_count": 1,
   "id": "abc89cee",
   "metadata": {},
   "outputs": [],
   "source": [
    "%config Completer.use_jedi = False\n",
    "\n",
    "# Je narrivait pas a installer la librairy textBlob depuis la UI Anaconda\n",
    "# Les 3 lignes ci-dessous sont a faire tourner une seule fois:\n",
    "\n",
    "# import sys\n",
    "# !{sys.executable} -m pip install textblob\n",
    "# !{sys.executable} -m pip install textblob_fr\n",
    "\n",
    "\n",
    "import pandas as pd\n",
    "import plotly.express as px\n",
    "import plotly.graph_objects as go\n",
    "from plotly.subplots import make_subplots\n",
    "import plotly.io as pio\n",
    "import seaborn as sns\n",
    "import matplotlib.pyplot as plt\n",
    "import numpy as np\n",
    "\n",
    "fileName = 'df_complet.csv'\n",
    "pathName = './Data'\n",
    "\n",
    "\n",
    "# df=pd.read_excel(f'{pathName}\\{fileName}')\n",
    "df=pd.read_csv(f'{pathName}/{fileName}')"
   ]
  },
  {
   "cell_type": "code",
   "execution_count": 2,
   "id": "7d190758",
   "metadata": {},
   "outputs": [
    {
     "name": "stdout",
     "output_type": "stream",
     "text": [
      "Index(['Unnamed: 0.1', 'Unnamed: 0', 'Client', 'Nombre_avis_publie', 'Note',\n",
      "       'Titres', 'Commentaire', 'Date_experience', 'Date_publication',\n",
      "       'Reponse', 'Date_reponse', 'Pays', 'Verifications', 'Entreprise'],\n",
      "      dtype='object')\n",
      "Commentaire NAN: 0\n",
      "Commentaire Null: 0\n",
      "Titres NAN: 0\n",
      "Nombre_avis_publie NAN: 0\n",
      "Verifications NAN: 0\n",
      "Date_experience NAN: 0\n",
      "Date_publication NAN: 0\n",
      "\n",
      "Nombres de lignes: 285983\n"
     ]
    }
   ],
   "source": [
    "\n",
    "# Suppression des valeurs NaN dans Titres et commentaires\n",
    "df = df.dropna(subset=['Commentaire','Titres'],how='all')\n",
    "df['Commentaire'] = df['Commentaire'].fillna('')\n",
    "df['Titres'] = df['Titres'].fillna('')\n",
    "\n",
    "#Suppression des lignes avec Titres et commentaire egale a '' (string vide):\n",
    "df = df.drop(df[(df.Commentaire == '') & (df.Titres == '')].index)\n",
    "\n",
    "# Suppresion des Lignes redondantes:\n",
    "df = df.drop_duplicates()\n",
    "\n",
    "#df = df.drop(df.loc[df.Titres.apply(lambda x: not(isinstance(x, str)))].index)\n",
    "print(df.columns)\n",
    "df.reset_index()\n",
    "\n",
    "#Convertir toutes les valeurs de Commentaire et Titre en Object:string:\n",
    "df['Commentaire'] = df['Commentaire'].astype(str)\n",
    "df['Titres'] = df['Titres'].astype(str)\n",
    "\n",
    "# Remplacement des characteres non ASCII:\n",
    "items = {\"ä\": \"a\", \"ç\": \"c\", \"è\": \"e\", \"º\": \"\", \"Ã\": \"A\", \"Í\": \"I\", \"í\": \"i\", \"Ü\": \"U\", \"â\": \"a\", \"ò\": \"o\", \"¿\": \"\",\n",
    "             \"ó\": \"o\", \"á\": \"a\", \"à\": \"a\", \"õ\": \"o\", \"¡\": \"\", \"Ó\": \"O\", \"ù\": \"u\", \"Ú\": \"U\", \"´\": \"\", \"Ñ\": \"N\", \"Ò\": \"O\",\n",
    "             \"ï\": \"i\", \"Ï\": \"I\", \"Ç\": \"C\", \"À\": \"A\", \"É\": \"E\", \"ë\": \"e\", \"Á\": \"A\", \"ã\": \"a\", \"Ö\": \"O\", \"ú\": \"u\",\n",
    "             \"ñ\": \"n\", \"é\": \"e\", \"ê\": \"e\", \"·\": \"-\", \"ª\": \"a\", \"°\": \"\", \"ü\": \"u\", \"ô\": \"o\",\"+\":\"plus\",\"-\":\"moins\",\"_\":\" \"}\n",
    "\n",
    "df['Commentaire'] = df['Commentaire'].str.replace(r'[^\\x00-\\x7F]', lambda x: items.get(x.group(0)) or '_', regex=True)\n",
    "df['Titres'] = df['Titres'].str.replace(r'[^\\x00-\\x7F]', lambda x: items.get(x.group(0)) or '_', regex=True)\n",
    "\n",
    "# Conversion des date en objet datetime:\n",
    "df.Date_experience =  pd.to_datetime(df.Date_experience)\n",
    "df.Date_publication =  pd.to_datetime(df.Date_publication)\n",
    "\n",
    "print(f'Commentaire NAN: {df.Commentaire.isna().sum()}')\n",
    "print(f'Commentaire Null: {df.Commentaire.isnull().sum()}')\n",
    "print(f'Titres NAN: {df.Titres.isna().sum()}')\n",
    "print(f'Nombre_avis_publie NAN: {df.Nombre_avis_publie.isna().sum()}')\n",
    "print(f'Verifications NAN: {df.Verifications.isna().sum()}')\n",
    "print(f'Date_experience NAN: {df.Date_experience.isna().sum()}')\n",
    "print(f'Date_publication NAN: {df.Date_publication.isna().sum()}')\n",
    "\n",
    "print(f'\\nNombres de lignes: {len(df)}')"
   ]
  },
  {
   "cell_type": "markdown",
   "id": "131c86ee",
   "metadata": {},
   "source": [
    "## Commentaires et Titre "
   ]
  },
  {
   "cell_type": "markdown",
   "id": "6f3fe5f7",
   "metadata": {},
   "source": [
    "### Nombres de mots et characteres:"
   ]
  },
  {
   "cell_type": "code",
   "execution_count": 3,
   "id": "18ca2944",
   "metadata": {},
   "outputs": [],
   "source": [
    "df['longCommentaire']  = df.Commentaire.apply(lambda x: len(x))\n",
    "df['longTitres']  = df.Titres.apply(lambda x: len(x))"
   ]
  },
  {
   "cell_type": "code",
   "execution_count": 4,
   "id": "bef08438",
   "metadata": {},
   "outputs": [],
   "source": [
    "df['nb_Mots_Commentaire']  = df.Commentaire.apply(lambda x: len(x.split(' ')))\n",
    "df['nb_Mots_Titres']  = df.Titres.apply(lambda x: len(x.split(' ')))"
   ]
  },
  {
   "cell_type": "markdown",
   "id": "c7391ff4",
   "metadata": {},
   "source": [
    "### Ponctuations, nombres, characteres speciaux:"
   ]
  },
  {
   "cell_type": "code",
   "execution_count": 5,
   "id": "2a005d9c",
   "metadata": {},
   "outputs": [],
   "source": [
    "def Count_special(str):\n",
    "    upper, lower, number, ponctuation, special = 0, 0, 0, 0, 0\n",
    "    for i in range(len(str)):\n",
    "        if str[i].isupper():\n",
    "            upper += 1\n",
    "        elif str[i].islower():\n",
    "            lower += 1\n",
    "        elif str[i].isdigit():\n",
    "            number += 1\n",
    "        elif str[i] in ['!','?']:\n",
    "            ponctuation += 1\n",
    "            \n",
    "        elif str[i] in '@#$%&+=-<>~/\\\"*(){}[]':\n",
    "            special += 1\n",
    "#     print('Upper case letters:', upper)\n",
    "#     print('Lower case letters:', lower)\n",
    "#     print('Number:', number)\n",
    "#     print('Ponctuation:', ponctuation)\n",
    "#     print('Special characters:', special)\n",
    "    \n",
    "    return upper,lower,number,ponctuation,special\n"
   ]
  },
  {
   "cell_type": "code",
   "execution_count": 6,
   "id": "b2d7d8ad",
   "metadata": {},
   "outputs": [],
   "source": [
    "df['nb_majuscules_Commentaire'], _, df['nb_chiffres_Commentaire'], df['nb_ponctuation_Commentaire'],df['nb_special_Commentaire'] = zip(*df.Commentaire.apply(lambda x: Count_special(x)))"
   ]
  },
  {
   "cell_type": "code",
   "execution_count": 7,
   "id": "cbe3d993",
   "metadata": {},
   "outputs": [],
   "source": [
    "df['nb_majuscules_Titre'], _, df['nb_chiffres_Titre'], df['nb_ponctuation_Titre'],df['nb_special_Titre'] = zip(*df.Titres.apply(lambda x: Count_special(x)))"
   ]
  },
  {
   "cell_type": "markdown",
   "id": "e35abda0",
   "metadata": {},
   "source": [
    "### Mots Clefs: (A terminer)"
   ]
  },
  {
   "cell_type": "code",
   "execution_count": 23,
   "id": "93c6a670",
   "metadata": {},
   "outputs": [],
   "source": [
    "from sklearn.feature_extraction.text import CountVectorizer\n",
    "\n",
    "def get_top_ngram(corpus, n=None, ngrame=1,stopWord=True):\n",
    "    \"\"\"\n",
    "    Compte le nombre de recurrences des ngrames presents dans le corpus et retourne le top n ngrames et leur decomptes.\n",
    "\n",
    "    :param corpus: Serie, incluant 1 seul colonne de string\n",
    "    :param n: int, Nombre de Ngrame a collecter apres triage\n",
    "    :param ngrame: int, ordre du Ngrame vise. 1 mot = 1grame, couple mots se suivant = 2grame, etc\n",
    "    :param stopWord: Boolean, filtre les stopWord present dans les string. La list de stop word est definie dans la\n",
    "    fonction. StopWord example = le,la,les,de,je,etc\n",
    "    :return: List of tuple, [(mot,nombre recense)]\n",
    "    \"\"\"\n",
    "\n",
    "    items = {\"ä\": \"a\", \"ç\": \"c\", \"è\": \"e\", \"º\": \"\", \"Ã\": \"A\", \"Í\": \"I\", \"í\": \"i\", \"Ü\": \"U\", \"â\": \"a\", \"ò\": \"o\", \"¿\": \"\",\n",
    "             \"ó\": \"o\", \"á\": \"a\", \"à\": \"a\", \"õ\": \"o\", \"¡\": \"\", \"Ó\": \"O\", \"ù\": \"u\", \"Ú\": \"U\", \"´\": \"\", \"Ñ\": \"N\", \"Ò\": \"O\",\n",
    "             \"ï\": \"i\", \"Ï\": \"I\", \"Ç\": \"C\", \"À\": \"A\", \"É\": \"E\", \"ë\": \"e\", \"Á\": \"A\", \"ã\": \"a\", \"Ö\": \"O\", \"ú\": \"u\",\n",
    "             \"ñ\": \"n\", \"é\": \"e\", \"ê\": \"e\", \"·\": \"-\", \"ª\": \"a\", \"°\": \"\", \"ü\": \"u\", \"ô\": \"o\",\"+\":\"plus\",\"-\":\"moins\",\"_\":\" \"}\n",
    "\n",
    "    stopWordFrench = ['alors','au','ai','aucuns','aussi','autre','avant','avec','avoir','bon','car','ce','cela',\n",
    "                      'ces','ceux','chaque','ci','comme','comment','dans','de','des','du','dedans','dehors','depuis',\n",
    "                      'devrait','doit','donc','dos','debut','elle','elles','en','encore','essai','est','et','eu',\n",
    "                      'fait','faites','fois','font','hors','ici','il','ils','je','juste','la','le','les','leur','ma',\n",
    "                      'maintenant','mais','mes','mien','moins','mon','mot','meme','ni','nommes','notre','nous','ou',\n",
    "                      'par','parce','peut','plupart','pour','pourquoi','quand','que','quel','quelle','quelles',\n",
    "                      'quels','qui','sa','sans','ses','seulement','si','sien','son','sont','sous','soyez','sujet',\n",
    "                      'sur','ta','un','une','tandis','tellement','tels','tes','ton','tous','tout','tres','tu',\n",
    "                      'voient','vont','votre','vous','vu','ca','etaient','etat','etions','ete','etre','me','chez',\n",
    "                      'on','ont',\"de_\",\"et_\",\"la_\",\"le_\",\"j_ai\",\"j_\"]\n",
    "\n",
    "    stopWord = stopWordFrench if stopWord else None\n",
    "\n",
    "    corpus = corpus.str.replace(r'[^\\x00-\\x7F]', lambda x: items.get(x.group(0)) or '_', regex=True)\n",
    "\n",
    "    vec = CountVectorizer(ngram_range=(ngrame, ngrame), stop_words=stopWord).fit(corpus)\n",
    "    bag_of_words = vec.transform(corpus)\n",
    "    sum_words = bag_of_words.sum(axis=0)\n",
    "    words_freq = [(word, sum_words[0, idx]) for word, idx in vec.vocabulary_.items()]\n",
    "    words_freq =sorted(words_freq, key = lambda x: x[1], reverse=True)\n",
    "    \n",
    "    return words_freq[:n]"
   ]
  },
  {
   "cell_type": "code",
   "execution_count": 30,
   "id": "af64316d",
   "metadata": {},
   "outputs": [],
   "source": [
    "def getSelectedWord(columnTargeted='',ngrame=1,ngrame_nb=5):\n",
    "    common_words=[]\n",
    "    for note in range(1,6):\n",
    "        common_words += get_top_ngram(df.loc[df.Note==note][columnTargeted], n=ngrame_nb,ngrame=ngrame,stopWord=True)\n",
    "\n",
    "\n",
    "    wordOnlyList=[x[0] for x in common_words]\n",
    "\n",
    "    #Conserve les strings unique\n",
    "    selected_words= []\n",
    "    [selected_words.append(x) for x in wordOnlyList if x not in selected_words]\n",
    "\n",
    "    return selected_words\n"
   ]
  },
  {
   "cell_type": "code",
   "execution_count": 25,
   "id": "e0011a4d",
   "metadata": {},
   "outputs": [],
   "source": [
    "def getVecAndBagWords(columnTargeted='',ngrame=1):\n",
    "\n",
    "    corpus = df[columnTargeted]\n",
    "\n",
    "    items = {\"ä\": \"a\", \"ç\": \"c\", \"è\": \"e\", \"º\": \"\", \"Ã\": \"A\", \"Í\": \"I\", \"í\": \"i\", \"Ü\": \"U\", \"â\": \"a\", \"ò\": \"o\", \"¿\": \"\",\n",
    "             \"ó\": \"o\", \"á\": \"a\", \"à\": \"a\", \"õ\": \"o\", \"¡\": \"\", \"Ó\": \"O\", \"ù\": \"u\", \"Ú\": \"U\", \"´\": \"\", \"Ñ\": \"N\", \"Ò\": \"O\",\n",
    "             \"ï\": \"i\", \"Ï\": \"I\", \"Ç\": \"C\", \"À\": \"A\", \"É\": \"E\", \"ë\": \"e\", \"Á\": \"A\", \"ã\": \"a\", \"Ö\": \"O\", \"ú\": \"u\",\n",
    "             \"ñ\": \"n\", \"é\": \"e\", \"ê\": \"e\", \"·\": \"-\", \"ª\": \"a\", \"°\": \"\", \"ü\": \"u\", \"ô\": \"o\",\"+\":\"plus\",\"-\":\"moins\",\"_\":\" \"}\n",
    "\n",
    "    stopWordFrench = ['alors','au','ai','aucuns','aussi','autre','avant','avec','avoir','bon','car','ce','cela',\n",
    "                      'ces','ceux','chaque','ci','comme','comment','dans','de','des','du','dedans','dehors','depuis',\n",
    "                      'devrait','doit','donc','dos','debut','elle','elles','en','encore','essai','est','et','eu',\n",
    "                      'fait','faites','fois','font','hors','ici','il','ils','je','juste','la','le','les','leur','ma',\n",
    "                      'maintenant','mais','mes','mien','moins','mon','mot','meme','ni','nommes','notre','nous','ou',\n",
    "                      'par','parce','peut','plupart','pour','pourquoi','quand','que','quel','quelle','quelles',\n",
    "                      'quels','qui','sa','sans','ses','seulement','si','sien','son','sont','sous','soyez','sujet',\n",
    "                      'sur','ta','un','une','tandis','tellement','tels','tes','ton','tous','tout','tres','tu',\n",
    "                      'voient','vont','votre','vous','vu','ca','etaient','etat','etions','ete','etre','me','chez',\n",
    "                      'on','ont',\"de_\",\"et_\",\"la_\",\"le_\",\"j_ai\",\"j_\"]\n",
    "\n",
    "\n",
    "    corpus = corpus.str.replace(r'[^\\x00-\\x7F]', lambda x: items.get(x.group(0)) or '_', regex=True)\n",
    "\n",
    "    vec = CountVectorizer(ngram_range=(ngrame, ngrame), stop_words=stopWordFrench).fit(corpus)\n",
    "\n",
    "    bag_of_words = vec.transform(corpus)\n",
    "\n",
    "    return vec, bag_of_words\n"
   ]
  },
  {
   "cell_type": "code",
   "execution_count": 26,
   "id": "cd92ca22",
   "metadata": {},
   "outputs": [],
   "source": [
    "def addNewColumnNgrame(df2=df.copy(),columnTargeted='',ngrame=1):\n",
    "    \n",
    "    selected_words = getSelectedWord(columnTargeted=columnTargeted,ngrame=ngrame)\n",
    "    \n",
    "    vec, bag_of_words = getVecAndBagWords(columnTargeted=columnTargeted,ngrame=ngrame)\n",
    "    \n",
    "    print(f'Ngrame Selectionne: {selected_words}')\n",
    "\n",
    "    newColname=[]\n",
    "    for word in selected_words:\n",
    "        newColname.append(columnTargeted +'_' +str(ngrame)+'grame_'+word.replace(' ','_'))\n",
    "        df2[columnTargeted +'_' +str(ngrame)+'grame_'+word.replace(' ','_')] = [bag_of_words[i,vec.vocabulary_[word]] if word in vec.vocabulary_.keys() else 0 for i in range(len(df))]\n",
    "\n",
    "    print(f'Nouvelles colonnes: {newColname}')\n",
    "    \n",
    "    return df2\n"
   ]
  },
  {
   "cell_type": "code",
   "execution_count": 28,
   "id": "e1c909ff",
   "metadata": {},
   "outputs": [
    {
     "name": "stdout",
     "output_type": "stream",
     "text": [
      "[('toujours pas', 4905), ('commande pneus', 2493), ('pas recu', 2481), ('service client', 2187), ('ne pas', 2118), ('toujours pas', 914), ('commande pneus', 576), ('ne pas', 575), ('pas recu', 423), ('service client', 372), ('ne pas', 723), ('delai livraison', 656), ('commande pneus', 569), ('livraison rapide', 474), ('centre montage', 458), ('livraison rapide', 4561), ('qualite prix', 1766), ('rapport qualite', 1516), ('delai livraison', 1322), ('rien dire', 1081), ('livraison rapide', 31794), ('qualite prix', 8288), ('rapport qualite', 6906), ('rien dire', 5656), ('rien redire', 4307)]\n",
      "Ngrame Selectionne: ['toujours pas', 'commande pneus', 'pas recu', 'service client', 'ne pas', 'delai livraison', 'livraison rapide', 'centre montage', 'qualite prix', 'rapport qualite', 'rien dire', 'rien redire']\n",
      "Nouvelles colonnes: ['Commentaire_2grame_toujours_pas', 'Commentaire_2grame_commande_pneus', 'Commentaire_2grame_pas_recu', 'Commentaire_2grame_service_client', 'Commentaire_2grame_ne_pas', 'Commentaire_2grame_delai_livraison', 'Commentaire_2grame_livraison_rapide', 'Commentaire_2grame_centre_montage', 'Commentaire_2grame_qualite_prix', 'Commentaire_2grame_rapport_qualite', 'Commentaire_2grame_rien_dire', 'Commentaire_2grame_rien_redire']\n"
     ]
    }
   ],
   "source": [
    "ngrame=1\n",
    "columnTargeted = 'Commentaire'\n",
    "\n",
    "df = addNewColumnNgrame(df2=df.copy(),columnTargeted=columnTargeted,ngrame=ngrame)\n"
   ]
  },
  {
   "cell_type": "code",
   "execution_count": null,
   "id": "068970b4",
   "metadata": {},
   "outputs": [],
   "source": [
    "ngrame=2\n",
    "columnTargeted = 'Commentaire'\n",
    "\n",
    "df = addNewColumnNgrame(df2=df.copy(),columnTargeted=columnTargeted,ngrame=ngrame)\n"
   ]
  },
  {
   "cell_type": "code",
   "execution_count": 31,
   "id": "6582a2d6",
   "metadata": {},
   "outputs": [
    {
     "name": "stdout",
     "output_type": "stream",
     "text": [
      "Ngrame Selectionne: ['toujours pas recu', 'service apres vente', 'pas recu pneus', 'pas recu commande', 'toujours rien recu', 'ne suis pas', 'ne sais pas', 'toujours pas livre', 'rapport qualite prix', 'livraison trop long', 'delai livraison trop', 'livraison peu longue', 'livraison peu long', 'livraison rapide conforme', 'qualite prix livraison', 'prix livraison rapide', 'livraison rapide prix']\n",
      "Nouvelles colonnes: ['Commentaire_3grame_toujours_pas_recu', 'Commentaire_3grame_service_apres_vente', 'Commentaire_3grame_pas_recu_pneus', 'Commentaire_3grame_pas_recu_commande', 'Commentaire_3grame_toujours_rien_recu', 'Commentaire_3grame_ne_suis_pas', 'Commentaire_3grame_ne_sais_pas', 'Commentaire_3grame_toujours_pas_livre', 'Commentaire_3grame_rapport_qualite_prix', 'Commentaire_3grame_livraison_trop_long', 'Commentaire_3grame_delai_livraison_trop', 'Commentaire_3grame_livraison_peu_longue', 'Commentaire_3grame_livraison_peu_long', 'Commentaire_3grame_livraison_rapide_conforme', 'Commentaire_3grame_qualite_prix_livraison', 'Commentaire_3grame_prix_livraison_rapide', 'Commentaire_3grame_livraison_rapide_prix']\n"
     ]
    }
   ],
   "source": [
    "ngrame=3\n",
    "columnTargeted = 'Commentaire'\n",
    "\n",
    "df = addNewColumnNgrame(df2=df.copy(),columnTargeted=columnTargeted,ngrame=ngrame)"
   ]
  },
  {
   "cell_type": "code",
   "execution_count": 33,
   "id": "1be7a4d4",
   "metadata": {},
   "outputs": [
    {
     "name": "stdout",
     "output_type": "stream",
     "text": [
      "Ngrame Selectionne: ['pas', 'commande', 'pneus', 'livraison', 'recu', 'trop', 'delai', 'rapide', 'bien', 'prix', 'parfait']\n",
      "Nouvelles colonnes: ['Titres_1grame_pas', 'Titres_1grame_commande', 'Titres_1grame_pneus', 'Titres_1grame_livraison', 'Titres_1grame_recu', 'Titres_1grame_trop', 'Titres_1grame_delai', 'Titres_1grame_rapide', 'Titres_1grame_bien', 'Titres_1grame_prix', 'Titres_1grame_parfait']\n"
     ]
    }
   ],
   "source": [
    "ngrame=1\n",
    "columnTargeted = 'Titres'\n",
    "\n",
    "df = addNewColumnNgrame(df2=df.copy(),columnTargeted=columnTargeted,ngrame=ngrame)"
   ]
  },
  {
   "cell_type": "code",
   "execution_count": 35,
   "id": "1502de9b",
   "metadata": {},
   "outputs": [
    {
     "name": "stdout",
     "output_type": "stream",
     "text": [
      "Ngrame Selectionne: ['toujours pas', 'pas recu', 'commande pneus', 'recu pneus', 'recu commande', 'trop long', 'livraison trop', 'delai livraison', 'delais livraison', 'livraison rapide', 'qualite prix', 'rapport qualite', 'rien dire', 'rapide efficace']\n",
      "Nouvelles colonnes: ['Titres_2grame_toujours_pas', 'Titres_2grame_pas_recu', 'Titres_2grame_commande_pneus', 'Titres_2grame_recu_pneus', 'Titres_2grame_recu_commande', 'Titres_2grame_trop_long', 'Titres_2grame_livraison_trop', 'Titres_2grame_delai_livraison', 'Titres_2grame_delais_livraison', 'Titres_2grame_livraison_rapide', 'Titres_2grame_qualite_prix', 'Titres_2grame_rapport_qualite', 'Titres_2grame_rien_dire', 'Titres_2grame_rapide_efficace']\n"
     ]
    }
   ],
   "source": [
    "ngrame=2\n",
    "columnTargeted = 'Titres'\n",
    "\n",
    "df = addNewColumnNgrame(df2=df.copy(),columnTargeted=columnTargeted,ngrame=ngrame)"
   ]
  },
  {
   "cell_type": "code",
   "execution_count": 36,
   "id": "037bcbac",
   "metadata": {},
   "outputs": [
    {
     "name": "stdout",
     "output_type": "stream",
     "text": [
      "Ngrame Selectionne: ['toujours pas recu', 'pas recu commande', 'pas recu pneus', 'toujours pas livre', 'service apres vente', 'livraison trop long', 'livraison trop longue', 'delai livraison trop', 'delais livraison trop', 'rapport qualite prix', 'livraison non respecte', 'livraison rapide conforme', 'livraison peu longue', 'bien livraison rapide', 'livraison peu long', 'livraison rapide prix', 'livraison ultra rapide', 'prix livraison rapide']\n",
      "Nouvelles colonnes: ['Titres_3grame_toujours_pas_recu', 'Titres_3grame_pas_recu_commande', 'Titres_3grame_pas_recu_pneus', 'Titres_3grame_toujours_pas_livre', 'Titres_3grame_service_apres_vente', 'Titres_3grame_livraison_trop_long', 'Titres_3grame_livraison_trop_longue', 'Titres_3grame_delai_livraison_trop', 'Titres_3grame_delais_livraison_trop', 'Titres_3grame_rapport_qualite_prix', 'Titres_3grame_livraison_non_respecte', 'Titres_3grame_livraison_rapide_conforme', 'Titres_3grame_livraison_peu_longue', 'Titres_3grame_bien_livraison_rapide', 'Titres_3grame_livraison_peu_long', 'Titres_3grame_livraison_rapide_prix', 'Titres_3grame_livraison_ultra_rapide', 'Titres_3grame_prix_livraison_rapide']\n"
     ]
    }
   ],
   "source": [
    "ngrame=3\n",
    "columnTargeted = 'Titres'\n",
    "\n",
    "df = addNewColumnNgrame(df2=df.copy(),columnTargeted=columnTargeted,ngrame=ngrame)"
   ]
  },
  {
   "cell_type": "code",
   "execution_count": 37,
   "id": "0b5be8fd",
   "metadata": {},
   "outputs": [
    {
     "name": "stdout",
     "output_type": "stream",
     "text": [
      "Index(['Unnamed: 0.1', 'Unnamed: 0', 'Client', 'Nombre_avis_publie', 'Note',\n",
      "       'Titres', 'Commentaire', 'Date_experience', 'Date_publication',\n",
      "       'Reponse',\n",
      "       ...\n",
      "       'Titres_3grame_delais_livraison_trop',\n",
      "       'Titres_3grame_rapport_qualite_prix',\n",
      "       'Titres_3grame_livraison_non_respecte',\n",
      "       'Titres_3grame_livraison_rapide_conforme',\n",
      "       'Titres_3grame_livraison_peu_longue',\n",
      "       'Titres_3grame_bien_livraison_rapide',\n",
      "       'Titres_3grame_livraison_peu_long',\n",
      "       'Titres_3grame_livraison_rapide_prix',\n",
      "       'Titres_3grame_livraison_ultra_rapide',\n",
      "       'Titres_3grame_prix_livraison_rapide'],\n",
      "      dtype='object', length=105)\n",
      "    Unnamed: 0.1  Unnamed: 0               Client  Nombre_avis_publie  Note  \\\n",
      "0              0           0        marc lesterpt                   1     5   \n",
      "1              1           1           Séverine M                   6     5   \n",
      "2              2           2           PINTO NUNO                   3     5   \n",
      "3              3           3               client                   4     5   \n",
      "4              4           4              Vignaux                   1     4   \n",
      "5              5           5      cliente juliema                   1     5   \n",
      "6              6           6              cliente                   1     5   \n",
      "7              7           7                 Manu                   4     5   \n",
      "8              8           8               Xavier                   3     5   \n",
      "9              9           9      Sonia Nutrition                   1     5   \n",
      "10            10          10  Mr JEAN  FRANCESCHI                   6     5   \n",
      "11            11          11        Olivier DARTY                   4     4   \n",
      "12            12          12               MAXIME                   1     1   \n",
      "13            13          13             Petrucci                   3     5   \n",
      "14            14          14           Domy Comte                   2     2   \n",
      "15            15          15           D. TERROUX                   1     5   \n",
      "16            16          16     Francis Collette                   3     3   \n",
      "17            17          17              cliente                   1     5   \n",
      "18            18          18              Arlette                   1     2   \n",
      "19            19          19              Ambrosi                   1     5   \n",
      "\n",
      "                                               Titres  \\\n",
      "0       Je commande mes pneus de motos et de voitures   \n",
      "1       Ne cherchez plus vos pneus, Allopneus le peut   \n",
      "2                                  Tout etait parfait   \n",
      "3                Pneus d'un tres bon rapport qualite_   \n",
      "4             Bon suivi de la commande,les questions_   \n",
      "5   Excellent service, bien plus avantageux compar...   \n",
      "6                           commande jusqu'au montage   \n",
      "7                                           Excellent   \n",
      "8            Fidele depuis de nombreuses annees j ai_   \n",
      "9                       Meilleur rapport qualite prix   \n",
      "10                                 MEILLEURE SOLUTION   \n",
      "11                               Revoir la logistique   \n",
      "12                              Franchement tres decu   \n",
      "13                     Tres satisfait dans l'ensemble   \n",
      "14           Details invisibles au premier coup d'_il   \n",
      "15                Tres facile de commander par le net   \n",
      "16                             3 etoiles pour le prix   \n",
      "17            Jai pu etre depanne en urgence grace a_   \n",
      "18  Ma premiere experience excellente mais en suit...   \n",
      "19                                  Rapide et serieux   \n",
      "\n",
      "                                          Commentaire Date_experience  \\\n",
      "0   Je commande mes pneus de motos et de voitures ...      2023-07-23   \n",
      "1   BonjourLe site est genial, tres bien explique ...      2023-07-13   \n",
      "2   Tout etait parfait, timing parfait dans les da...      2023-07-16   \n",
      "3   Pneus d'un tres bon rapport qualite prix. Les ...      2023-07-24   \n",
      "4   Bon suivi de la commande,les questions sont im...      2023-07-23   \n",
      "5   Ce service sur place est d un grand secours. R...      2023-07-24   \n",
      "6   La commande sur internet c'est tres bien passe...      2023-07-11   \n",
      "7   RAS, le rapport qualite prix est tres correct....      2023-07-26   \n",
      "8   Fidele depuis de nombreuses annees j ai toujou...      2023-07-20   \n",
      "9   M'a ete recommande. Meilleur rapport qualite p...      2023-07-20   \n",
      "10  C'est la premiere fois que j'ai fait une comma...      2023-07-20   \n",
      "11  Bonjour, j_attends d_etre recontacte car je n_...      2023-07-30   \n",
      "12  Pneu commande le 14 juillet, toujours pas de p...      2023-07-16   \n",
      "13  Tres satisfait dans l'ensemble.  Seul bemol,  ...      2023-07-12   \n",
      "14  Je commande un pneu de remorque en precisant l...      2023-07-23   \n",
      "15  Tres facile de commander par le net. Des recep...      2023-07-11   \n",
      "16  3 etoiles pour le prix, mais mon avis reste mi...      2023-07-13   \n",
      "17  Jai pu etre depanne en urgence grace a la reac...      2023-07-11   \n",
      "18  Ma premiere experience d'il y a 2 ou 3 ans ava...      2023-07-19   \n",
      "19  Commande passe sur internet prise de contacte ...      2023-07-19   \n",
      "\n",
      "   Date_publication                                            Reponse  ...  \\\n",
      "0        2023-08-05                                                NaN  ...   \n",
      "1        2023-08-04                                                NaN  ...   \n",
      "2        2023-08-04                                                NaN  ...   \n",
      "3        2023-08-05                                                NaN  ...   \n",
      "4        2023-08-04                                                NaN  ...   \n",
      "5        2023-08-04                                                NaN  ...   \n",
      "6        2023-08-01                                                NaN  ...   \n",
      "7        2023-08-05                                                NaN  ...   \n",
      "8        2023-08-04                                                NaN  ...   \n",
      "9        2023-08-04                                                NaN  ...   \n",
      "10       2023-08-03                                                NaN  ...   \n",
      "11       2023-08-01                                                NaN  ...   \n",
      "12       2023-08-04  Bonjour Maxime, Nous sommes désolés pour le re...  ...   \n",
      "13       2023-08-02                                                NaN  ...   \n",
      "14       2023-08-05                                                NaN  ...   \n",
      "15       2023-08-02                                                NaN  ...   \n",
      "16       2023-08-03  Bonjour Francis, Nous sommes navrés d'apprendr...  ...   \n",
      "17       2023-08-01                                                NaN  ...   \n",
      "18       2023-08-03  Bonjour Arlette, Nous sommes désolés d'apprend...  ...   \n",
      "19       2023-08-04                                                NaN  ...   \n",
      "\n",
      "   Titres_3grame_delais_livraison_trop Titres_3grame_rapport_qualite_prix  \\\n",
      "0                                    0                                  0   \n",
      "1                                    0                                  0   \n",
      "2                                    0                                  0   \n",
      "3                                    0                                  0   \n",
      "4                                    0                                  0   \n",
      "5                                    0                                  0   \n",
      "6                                    0                                  0   \n",
      "7                                    0                                  0   \n",
      "8                                    0                                  0   \n",
      "9                                    0                                  1   \n",
      "10                                   0                                  0   \n",
      "11                                   0                                  0   \n",
      "12                                   0                                  0   \n",
      "13                                   0                                  0   \n",
      "14                                   0                                  0   \n",
      "15                                   0                                  0   \n",
      "16                                   0                                  0   \n",
      "17                                   0                                  0   \n",
      "18                                   0                                  0   \n",
      "19                                   0                                  0   \n",
      "\n",
      "    Titres_3grame_livraison_non_respecte  \\\n",
      "0                                      0   \n",
      "1                                      0   \n",
      "2                                      0   \n",
      "3                                      0   \n",
      "4                                      0   \n",
      "5                                      0   \n",
      "6                                      0   \n",
      "7                                      0   \n",
      "8                                      0   \n",
      "9                                      0   \n",
      "10                                     0   \n",
      "11                                     0   \n",
      "12                                     0   \n",
      "13                                     0   \n",
      "14                                     0   \n",
      "15                                     0   \n",
      "16                                     0   \n",
      "17                                     0   \n",
      "18                                     0   \n",
      "19                                     0   \n",
      "\n",
      "   Titres_3grame_livraison_rapide_conforme  \\\n",
      "0                                        0   \n",
      "1                                        0   \n",
      "2                                        0   \n",
      "3                                        0   \n",
      "4                                        0   \n",
      "5                                        0   \n",
      "6                                        0   \n",
      "7                                        0   \n",
      "8                                        0   \n",
      "9                                        0   \n",
      "10                                       0   \n",
      "11                                       0   \n",
      "12                                       0   \n",
      "13                                       0   \n",
      "14                                       0   \n",
      "15                                       0   \n",
      "16                                       0   \n",
      "17                                       0   \n",
      "18                                       0   \n",
      "19                                       0   \n",
      "\n",
      "    Titres_3grame_livraison_peu_longue  Titres_3grame_bien_livraison_rapide  \\\n",
      "0                                    0                                    0   \n",
      "1                                    0                                    0   \n",
      "2                                    0                                    0   \n",
      "3                                    0                                    0   \n",
      "4                                    0                                    0   \n",
      "5                                    0                                    0   \n",
      "6                                    0                                    0   \n",
      "7                                    0                                    0   \n",
      "8                                    0                                    0   \n",
      "9                                    0                                    0   \n",
      "10                                   0                                    0   \n",
      "11                                   0                                    0   \n",
      "12                                   0                                    0   \n",
      "13                                   0                                    0   \n",
      "14                                   0                                    0   \n",
      "15                                   0                                    0   \n",
      "16                                   0                                    0   \n",
      "17                                   0                                    0   \n",
      "18                                   0                                    0   \n",
      "19                                   0                                    0   \n",
      "\n",
      "    Titres_3grame_livraison_peu_long  Titres_3grame_livraison_rapide_prix  \\\n",
      "0                                  0                                    0   \n",
      "1                                  0                                    0   \n",
      "2                                  0                                    0   \n",
      "3                                  0                                    0   \n",
      "4                                  0                                    0   \n",
      "5                                  0                                    0   \n",
      "6                                  0                                    0   \n",
      "7                                  0                                    0   \n",
      "8                                  0                                    0   \n",
      "9                                  0                                    0   \n",
      "10                                 0                                    0   \n",
      "11                                 0                                    0   \n",
      "12                                 0                                    0   \n",
      "13                                 0                                    0   \n",
      "14                                 0                                    0   \n",
      "15                                 0                                    0   \n",
      "16                                 0                                    0   \n",
      "17                                 0                                    0   \n",
      "18                                 0                                    0   \n",
      "19                                 0                                    0   \n",
      "\n",
      "    Titres_3grame_livraison_ultra_rapide  Titres_3grame_prix_livraison_rapide  \n",
      "0                                      0                                    0  \n",
      "1                                      0                                    0  \n",
      "2                                      0                                    0  \n",
      "3                                      0                                    0  \n",
      "4                                      0                                    0  \n",
      "5                                      0                                    0  \n",
      "6                                      0                                    0  \n",
      "7                                      0                                    0  \n",
      "8                                      0                                    0  \n",
      "9                                      0                                    0  \n",
      "10                                     0                                    0  \n",
      "11                                     0                                    0  \n",
      "12                                     0                                    0  \n",
      "13                                     0                                    0  \n",
      "14                                     0                                    0  \n",
      "15                                     0                                    0  \n",
      "16                                     0                                    0  \n",
      "17                                     0                                    0  \n",
      "18                                     0                                    0  \n",
      "19                                     0                                    0  \n",
      "\n",
      "[20 rows x 105 columns]\n"
     ]
    }
   ],
   "source": [
    "print(df.columns)\n",
    "print(df.head(20))"
   ]
  },
  {
   "cell_type": "markdown",
   "id": "21c829cb",
   "metadata": {},
   "source": [
    "### Sentiment Polarity (TextBlob)"
   ]
  },
  {
   "cell_type": "code",
   "execution_count": 62,
   "id": "2c1bb286",
   "metadata": {},
   "outputs": [
    {
     "name": "stderr",
     "output_type": "stream",
     "text": [
      "C:\\Users\\joan\\AppData\\Local\\Temp\\ipykernel_15264\\899469321.py:16: FutureWarning: The default value of regex will change from True to False in a future version.\n",
      "  ReviewText = ReviewText.str.replace(\"(<br/>)\", \"\")\n",
      "C:\\Users\\joan\\AppData\\Local\\Temp\\ipykernel_15264\\899469321.py:17: FutureWarning: The default value of regex will change from True to False in a future version.\n",
      "  ReviewText = ReviewText.str.replace('(<a).*(>).*(</a>)', '')\n",
      "C:\\Users\\joan\\AppData\\Local\\Temp\\ipykernel_15264\\899469321.py:18: FutureWarning: The default value of regex will change from True to False in a future version.\n",
      "  ReviewText = ReviewText.str.replace('(&amp)', '')\n",
      "C:\\Users\\joan\\AppData\\Local\\Temp\\ipykernel_15264\\899469321.py:19: FutureWarning: The default value of regex will change from True to False in a future version.\n",
      "  ReviewText = ReviewText.str.replace('(&gt)', '')\n",
      "C:\\Users\\joan\\AppData\\Local\\Temp\\ipykernel_15264\\899469321.py:20: FutureWarning: The default value of regex will change from True to False in a future version.\n",
      "  ReviewText = ReviewText.str.replace('(&lt)', '')\n",
      "C:\\Users\\joan\\AppData\\Local\\Temp\\ipykernel_15264\\899469321.py:21: FutureWarning: The default value of regex will change from True to False in a future version.\n",
      "  ReviewText = ReviewText.str.replace('(\\xa0)', ' ')\n"
     ]
    }
   ],
   "source": [
    "# Code:\n",
    "\n",
    "from textblob import Blobber\n",
    "from textblob_fr import PatternTagger, PatternAnalyzer\n",
    "\n",
    "#print(df.loc[df.Commentaire.apply(lambda x: not(isinstance(x, str)))].head())\n",
    "# df = df.drop(df.loc[df.Commentaire.apply(lambda x: not(isinstance(x, str)))].index)\n",
    "# df.reset_index()\n",
    "#df.info()\n",
    "\n",
    "# Definit objet blobber et configure les modeles francais\n",
    "tb = Blobber(pos_tagger=PatternTagger(), analyzer=PatternAnalyzer())\n",
    "\n",
    "# Fonction nettoyant le text\n",
    "def preprocess(ReviewText):\n",
    "    ReviewText = ReviewText.str.replace(\"(<br/>)\", \"\")\n",
    "    ReviewText = ReviewText.str.replace('(<a).*(>).*(</a>)', '')\n",
    "    ReviewText = ReviewText.str.replace('(&amp)', '')\n",
    "    ReviewText = ReviewText.str.replace('(&gt)', '')\n",
    "    ReviewText = ReviewText.str.replace('(&lt)', '')\n",
    "    ReviewText = ReviewText.str.replace('(\\xa0)', ' ')\n",
    "    return ReviewText\n",
    "\n",
    "\n",
    "df['Titres'] = preprocess(df['Titres'])\n",
    "df['Commentaire'] = preprocess(df['Commentaire'])\n",
    "df['polarity_Commentaire'] = df['Commentaire'].map(lambda text: tb(text).sentiment[0])\n",
    "df['polarity_Titres'] = df['Titres'].map(lambda text: tb(text).sentiment[0])"
   ]
  },
  {
   "cell_type": "markdown",
   "id": "472129df",
   "metadata": {},
   "source": [
    "### Date Experience transforme en saison"
   ]
  },
  {
   "cell_type": "code",
   "execution_count": 60,
   "id": "bba6fd5b",
   "metadata": {},
   "outputs": [
    {
     "name": "stdout",
     "output_type": "stream",
     "text": [
      "2\n"
     ]
    }
   ],
   "source": [
    "df['Saison_experience'] = df.Date_experience.apply(lambda x: x.month%12 // 3 + 1)"
   ]
  },
  {
   "cell_type": "markdown",
   "id": "c1f61a8d",
   "metadata": {},
   "source": [
    "## Conclusion"
   ]
  },
  {
   "cell_type": "markdown",
   "id": "0bb414e6",
   "metadata": {},
   "source": [
    "### Details:"
   ]
  },
  {
   "cell_type": "code",
   "execution_count": 81,
   "id": "fe059d64",
   "metadata": {},
   "outputs": [
    {
     "name": "stdout",
     "output_type": "stream",
     "text": [
      "Index(['Unnamed: 0.1', 'Unnamed: 0', 'Client', 'Nombre_avis_publie', 'Note',\n",
      "       'Titres', 'Commentaire', 'Date_experience', 'Date_publication',\n",
      "       'Reponse', 'Date_reponse', 'Pays', 'Verifications', 'Entreprise',\n",
      "       'longCommentaire', 'longTitres', 'nb_Mots_Commentaire',\n",
      "       'nb_Mots_Titres', 'Saison_experience', 'polarity_Commentaire',\n",
      "       'polarity_Titres', 'nb_majuscules_Commentaire',\n",
      "       'nb_chiffres_Commentaire', 'nb_ponctuation_Commentaire',\n",
      "       'nb_special_Commentaire', 'nb_majuscules_Titre', 'nb_chiffres_Titre',\n",
      "       'nb_ponctuation_Titre', 'nb_special_Titre'],\n",
      "      dtype='object')\n"
     ]
    }
   ],
   "source": [
    "print(df.columns)"
   ]
  },
  {
   "cell_type": "markdown",
   "id": "18e6a595",
   "metadata": {},
   "source": [
    "### Matrice de correlation:"
   ]
  },
  {
   "cell_type": "code",
   "execution_count": 42,
   "id": "8e1ad9ce",
   "metadata": {},
   "outputs": [
    {
     "name": "stdout",
     "output_type": "stream",
     "text": [
      "['Commentaire_1grame_pas', 'Commentaire_1grame_pneus', 'Commentaire_1grame_commande', 'Commentaire_1grame_ne', 'Commentaire_1grame_livraison', 'Commentaire_1grame_rapide', 'Commentaire_1grame_prix', 'Commentaire_2grame_toujours_pas', 'Commentaire_2grame_commande_pneus', 'Commentaire_2grame_pas_recu', 'Commentaire_2grame_service_client', 'Commentaire_2grame_ne_pas', 'Commentaire_2grame_delai_livraison', 'Commentaire_2grame_livraison_rapide', 'Commentaire_2grame_centre_montage', 'Commentaire_2grame_qualite_prix', 'Commentaire_2grame_rapport_qualite', 'Commentaire_2grame_rien_dire', 'Commentaire_2grame_rien_redire', 'Commentaire_3grame_toujours_pas_recu', 'Commentaire_3grame_service_apres_vente', 'Commentaire_3grame_pas_recu_pneus', 'Commentaire_3grame_pas_recu_commande', 'Commentaire_3grame_toujours_rien_recu', 'Commentaire_3grame_ne_suis_pas', 'Commentaire_3grame_ne_sais_pas', 'Commentaire_3grame_toujours_pas_livre', 'Commentaire_3grame_rapport_qualite_prix', 'Commentaire_3grame_livraison_trop_long', 'Commentaire_3grame_delai_livraison_trop', 'Commentaire_3grame_livraison_peu_longue', 'Commentaire_3grame_livraison_peu_long', 'Commentaire_3grame_livraison_rapide_conforme', 'Commentaire_3grame_qualite_prix_livraison', 'Commentaire_3grame_prix_livraison_rapide', 'Commentaire_3grame_livraison_rapide_prix', 'Titres_1grame_pas', 'Titres_1grame_commande', 'Titres_1grame_pneus', 'Titres_1grame_livraison', 'Titres_1grame_recu', 'Titres_1grame_trop', 'Titres_1grame_delai', 'Titres_1grame_rapide', 'Titres_1grame_bien', 'Titres_1grame_prix', 'Titres_1grame_parfait', 'Titres_2grame_toujours_pas', 'Titres_2grame_pas_recu', 'Titres_2grame_commande_pneus', 'Titres_2grame_recu_pneus', 'Titres_2grame_recu_commande', 'Titres_2grame_trop_long', 'Titres_2grame_livraison_trop', 'Titres_2grame_delai_livraison', 'Titres_2grame_delais_livraison', 'Titres_2grame_livraison_rapide', 'Titres_2grame_qualite_prix', 'Titres_2grame_rapport_qualite', 'Titres_2grame_rien_dire', 'Titres_2grame_rapide_efficace', 'Titres_3grame_toujours_pas_recu', 'Titres_3grame_pas_recu_commande', 'Titres_3grame_pas_recu_pneus', 'Titres_3grame_toujours_pas_livre', 'Titres_3grame_service_apres_vente', 'Titres_3grame_livraison_trop_long', 'Titres_3grame_livraison_trop_longue', 'Titres_3grame_delai_livraison_trop', 'Titres_3grame_delais_livraison_trop', 'Titres_3grame_rapport_qualite_prix', 'Titres_3grame_livraison_non_respecte', 'Titres_3grame_livraison_rapide_conforme', 'Titres_3grame_livraison_peu_longue', 'Titres_3grame_bien_livraison_rapide', 'Titres_3grame_livraison_peu_long', 'Titres_3grame_livraison_rapide_prix', 'Titres_3grame_livraison_ultra_rapide', 'Titres_3grame_prix_livraison_rapide', 'Note']\n"
     ]
    }
   ],
   "source": [
    "catVar = [x for x in df.columns  if 'grame_' in x ]\n",
    "\n",
    "# catVar.append('longCommentaire')\n",
    "# catVar.append('longTitres')\n",
    "\n",
    "# catVar.append('nb_Mots_Commentaire')\n",
    "# catVar.append('nb_Mots_Titres')\n",
    "\n",
    "\n",
    "# df['nb_Mots_Commentaire']  = df.Commentaire.apply(lambda x: len(x.split(' ')))\n",
    "# df['nb_Mots_Titres']  = df.Titres.apply(lambda x: len(x.split(' ')))\n",
    "\n",
    "# catVar.append('nb_majuscules_Commentaire')\n",
    "# catVar.append('nb_chiffres_Commentaire')\n",
    "# catVar.append('nb_ponctuation_Commentaire')\n",
    "# catVar.append('nb_special_Commentaire')\n",
    "\n",
    "# catVar.append('nb_majuscules_Titre')\n",
    "# catVar.append('nb_chiffres_Titre')\n",
    "# catVar.append('nb_ponctuation_Titre')\n",
    "# catVar.append('nb_special_Titre')\n",
    "\n",
    "# catVar.append('polarity_Commentaire')\n",
    "# catVar.append('polarity_Titres')\n",
    "\n",
    "\n",
    "\n",
    "\n",
    "catVar.append('Note')\n",
    "\n",
    "print(catVar)"
   ]
  },
  {
   "cell_type": "code",
   "execution_count": null,
   "id": "4d9ab0a5",
   "metadata": {},
   "outputs": [],
   "source": [
    "from scipy.stats import pearsonr, chi2_contingency\n",
    "\n",
    "\n",
    "stat =[]\n",
    "pval = []\n",
    "dofs =[]\n",
    "corr=[]\n",
    "\n",
    "for col in catVar:\n",
    "    stat_sub =[]\n",
    "    pval_sub = []\n",
    "    dofs_sub =[]\n",
    "    corr_sub=[]\n",
    "    for col2 in catVar:\n",
    "        ct = pd.crosstab(df[col],df[col2])\n",
    "        conting = chi2_contingency(ct)\n",
    "\n",
    "        stat_sub.append(conting[0])\n",
    "        pval_sub.append(conting[1])\n",
    "        dofs_sub.append(conting[2])\n",
    "        \n",
    "        n=ct.sum().sum()\n",
    "        corr_sub.append(np.sqrt(conting[0]/(len(df)*(min(ct.shape) - 1))))\n",
    "        \n",
    "    stat.append(stat_sub)\n",
    "    pval.append(pval_sub)\n",
    "    dofs.append(dofs_sub)\n",
    "    corr.append(corr_sub)\n",
    "\n",
    "    \n",
    "\n",
    "\n",
    "\n",
    "# #Comparaison 2 var quantitative\n",
    "# correl = pearsonr(df['Nombre_avis_publie'],df['Note'])\n",
    "# print(correl)\n",
    "\n",
    "\n",
    "\n",
    "# #Comparaison 2 variables qualitatives:\n",
    "# ct = pd.crosstab(df['Date_experience'],df['Note'])\n",
    "\n",
    "# conting = chi2_contingency(ct)\n",
    "\n",
    "# print(f'Statistique du test {conting[0]}, p-value du test {conting[1]}')"
   ]
  },
  {
   "cell_type": "code",
   "execution_count": null,
   "id": "ec2c5163",
   "metadata": {},
   "outputs": [],
   "source": [
    "\n",
    "plt.figure(figsize=(10,7))\n",
    "figcorr = sns.heatmap(np.array(corr),annot=True,cmap='RdBu_r')\n",
    "\n",
    "figcorr.set_xticklabels(catVar)\n",
    "figcorr.set_yticklabels(catVar)\n",
    "figcorr.xaxis.tick_top()\n",
    "plt.xticks(rotation=45)\n",
    "plt.xticks(ha='left')\n",
    "plt.yticks(rotation=0)"
   ]
  }
 ],
 "metadata": {
  "kernelspec": {
   "display_name": "Python 3 (ipykernel)",
   "language": "python",
   "name": "python3"
  },
  "language_info": {
   "codemirror_mode": {
    "name": "ipython",
    "version": 3
   },
   "file_extension": ".py",
   "mimetype": "text/x-python",
   "name": "python",
   "nbconvert_exporter": "python",
   "pygments_lexer": "ipython3",
   "version": "3.10.9"
  }
 },
 "nbformat": 4,
 "nbformat_minor": 5
}
