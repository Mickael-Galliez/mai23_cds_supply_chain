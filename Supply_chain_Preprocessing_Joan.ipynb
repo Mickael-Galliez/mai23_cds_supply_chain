{
 "cells": [
  {
   "cell_type": "markdown",
   "id": "e2aceb8e",
   "metadata": {},
   "source": [
    "# PREPROCESSING DATA"
   ]
  },
  {
   "cell_type": "code",
   "execution_count": null,
   "id": "5e60eb6b",
   "metadata": {},
   "outputs": [],
   "source": [
    "%config Completer.use_jedi = False\n",
    "\n",
    "import pandas as pd\n",
    "\n",
    "fileName = 'df_complet.csv'\n",
    "pathName = './Data'\n",
    "\n",
    "# df=pd.read_excel(f'{pathName}/{fileName}')\n",
    "df=pd.read_csv(f'{pathName}/{fileName}')"
   ]
  },
  {
   "cell_type": "markdown",
   "id": "503e8006",
   "metadata": {},
   "source": [
    "## Nettoyage des donnees:"
   ]
  },
  {
   "cell_type": "code",
   "execution_count": null,
   "id": "5d7fef00",
   "metadata": {},
   "outputs": [],
   "source": [
    "\n",
    "# Suppression des valeurs NaN dans Titres et commentaires\n",
    "df = df.dropna(subset=['Commentaire','Titres'],how='all')\n",
    "df['Commentaire'] = df['Commentaire'].fillna('')\n",
    "df['Titres'] = df['Titres'].fillna('')\n",
    "\n",
    "#Suppression des lignes avec Titres et commentaire egale a '' (string vide):\n",
    "df = df.drop(df[(df.Commentaire == '') & (df.Titres == '')].index)\n",
    "\n",
    "# Suppresion des Lignes redondantes:\n",
    "df = df.drop_duplicates()\n",
    "\n",
    "#df = df.drop(df.loc[df.Titres.apply(lambda x: not(isinstance(x, str)))].index)\n",
    "print(df.columns)\n",
    "df.reset_index()\n",
    "\n",
    "#Convertir toutes les valeurs de Commentaire et Titre en Object:string:\n",
    "df['Commentaire'] = df['Commentaire'].astype(str)\n",
    "df['Titres'] = df['Titres'].astype(str)\n",
    "\n",
    "# Remplacement des characteres non ASCII:\n",
    "items = {\"ä\": \"a\", \"ç\": \"c\", \"è\": \"e\", \"º\": \"\", \"Ã\": \"A\", \"Í\": \"I\", \"í\": \"i\", \"Ü\": \"U\", \"â\": \"a\", \"ò\": \"o\", \"¿\": \"\",\n",
    "             \"ó\": \"o\", \"á\": \"a\", \"à\": \"a\", \"õ\": \"o\", \"¡\": \"\", \"Ó\": \"O\", \"ù\": \"u\", \"Ú\": \"U\", \"´\": \"\", \"Ñ\": \"N\", \"Ò\": \"O\",\n",
    "             \"ï\": \"i\", \"Ï\": \"I\", \"Ç\": \"C\", \"À\": \"A\", \"É\": \"E\", \"ë\": \"e\", \"Á\": \"A\", \"ã\": \"a\", \"Ö\": \"O\", \"ú\": \"u\",\n",
    "             \"ñ\": \"n\", \"é\": \"e\", \"ê\": \"e\", \"·\": \"-\", \"ª\": \"a\", \"°\": \"\", \"ü\": \"u\", \"ô\": \"o\",\"+\":\"plus\",\"-\":\"moins\",\"_\":\" \"}\n",
    "\n",
    "df['Commentaire'] = df['Commentaire'].str.replace(r'[^\\x00-\\x7F]', lambda x: items.get(x.group(0)) or '_', regex=True)\n",
    "df['Titres'] = df['Titres'].str.replace(r'[^\\x00-\\x7F]', lambda x: items.get(x.group(0)) or '_', regex=True)\n",
    "\n",
    "# Conversion des date en objet datetime:\n",
    "df.Date_experience =  pd.to_datetime(df.Date_experience)\n",
    "df.Date_publication =  pd.to_datetime(df.Date_publication)\n",
    "\n",
    "print(f'Commentaire NAN: {df.Commentaire.isna().sum()}')\n",
    "print(f'Commentaire Null: {df.Commentaire.isnull().sum()}')\n",
    "print(f'Titres NAN: {df.Titres.isna().sum()}')\n",
    "print(f'Nombre_avis_publie NAN: {df.Nombre_avis_publie.isna().sum()}')\n",
    "print(f'Verifications NAN: {df.Verifications.isna().sum()}')\n",
    "print(f'Date_experience NAN: {df.Date_experience.isna().sum()}')\n",
    "print(f'Date_publication NAN: {df.Date_publication.isna().sum()}')\n",
    "\n",
    "print(f'\\nNombres de lignes: {len(df)}')"
   ]
  },
  {
   "cell_type": "markdown",
   "id": "d42e5f5d",
   "metadata": {},
   "source": [
    "## Sauvegarde des donnees propres:"
   ]
  },
  {
   "cell_type": "code",
   "execution_count": null,
   "id": "931c0b85",
   "metadata": {},
   "outputs": [],
   "source": [
    "df.to_csv('./Data/df_complet_clean.csv')\n",
    "# df.to_excel('./Data/df_complet_clean.xlsx')"
   ]
  }
 ],
 "metadata": {
  "kernelspec": {
   "display_name": "Python 3 (ipykernel)",
   "language": "python",
   "name": "python3"
  },
  "language_info": {
   "codemirror_mode": {
    "name": "ipython",
    "version": 3
   },
   "file_extension": ".py",
   "mimetype": "text/x-python",
   "name": "python",
   "nbconvert_exporter": "python",
   "pygments_lexer": "ipython3",
   "version": "3.10.9"
  }
 },
 "nbformat": 4,
 "nbformat_minor": 5
}
