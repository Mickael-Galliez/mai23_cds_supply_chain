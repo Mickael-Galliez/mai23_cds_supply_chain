{
 "cells": [
  {
   "cell_type": "code",
   "execution_count": 1,
   "id": "220b9677",
   "metadata": {},
   "outputs": [
    {
     "data": {
      "application/javascript": [
       "IPython.notebook.set_autosave_interval(0)"
      ]
     },
     "metadata": {},
     "output_type": "display_data"
    },
    {
     "name": "stdout",
     "output_type": "stream",
     "text": [
      "Autosave disabled\n"
     ]
    },
    {
     "name": "stderr",
     "output_type": "stream",
     "text": [
      "[nltk_data] Downloading package stopwords to\n",
      "[nltk_data]     C:\\Users\\micka\\AppData\\Roaming\\nltk_data...\n",
      "[nltk_data]   Package stopwords is already up-to-date!\n"
     ]
    }
   ],
   "source": [
    "%autosave 0\n",
    "import pandas as pd\n",
    "import re\n",
    "import nltk\n",
    "from sklearn.model_selection import train_test_split\n",
    "from sklearn.feature_extraction.text import CountVectorizer\n",
    "from sklearn.ensemble import RandomForestClassifier\n",
    "from sklearn.metrics import classification_report, confusion_matrix\n",
    "from sklearn.preprocessing import LabelEncoder\n",
    "from sklearn.feature_extraction.text import TfidfVectorizer\n",
    "from sklearn.pipeline import make_pipeline\n",
    "from sklearn.preprocessing import StandardScaler\n",
    "\n",
    "# Téléchargez la liste de stop words en français\n",
    "nltk.download('stopwords')\n",
    "\n",
    "# Importez la liste de stop words en français\n",
    "from nltk.corpus import stopwords\n",
    "stop_words_french = set(stopwords.words('french'))"
   ]
  },
  {
   "cell_type": "code",
   "execution_count": 2,
   "id": "28d877e2",
   "metadata": {},
   "outputs": [
    {
     "data": {
      "text/html": [
       "<div>\n",
       "<style scoped>\n",
       "    .dataframe tbody tr th:only-of-type {\n",
       "        vertical-align: middle;\n",
       "    }\n",
       "\n",
       "    .dataframe tbody tr th {\n",
       "        vertical-align: top;\n",
       "    }\n",
       "\n",
       "    .dataframe thead th {\n",
       "        text-align: right;\n",
       "    }\n",
       "</style>\n",
       "<table border=\"1\" class=\"dataframe\">\n",
       "  <thead>\n",
       "    <tr style=\"text-align: right;\">\n",
       "      <th></th>\n",
       "      <th>Client</th>\n",
       "      <th>Commentaire</th>\n",
       "      <th>Note</th>\n",
       "      <th>Sentiment</th>\n",
       "    </tr>\n",
       "  </thead>\n",
       "  <tbody>\n",
       "    <tr>\n",
       "      <th>0</th>\n",
       "      <td>marc lesterpt</td>\n",
       "      <td>Je commande mes pneus de motos et de voitures ...</td>\n",
       "      <td>5</td>\n",
       "      <td>Positif</td>\n",
       "    </tr>\n",
       "    <tr>\n",
       "      <th>1</th>\n",
       "      <td>Séverine M</td>\n",
       "      <td>BonjourLe site est génial, très bien expliqué ...</td>\n",
       "      <td>5</td>\n",
       "      <td>Positif</td>\n",
       "    </tr>\n",
       "    <tr>\n",
       "      <th>2</th>\n",
       "      <td>PINTO NUNO</td>\n",
       "      <td>Tout était parfait, timing parfait dans les da...</td>\n",
       "      <td>5</td>\n",
       "      <td>Positif</td>\n",
       "    </tr>\n",
       "    <tr>\n",
       "      <th>3</th>\n",
       "      <td>client</td>\n",
       "      <td>Pneus d'un tres bon rapport qualité prix. Les ...</td>\n",
       "      <td>5</td>\n",
       "      <td>Positif</td>\n",
       "    </tr>\n",
       "    <tr>\n",
       "      <th>4</th>\n",
       "      <td>Vignaux</td>\n",
       "      <td>Bon suivi de la commande,les questions sont im...</td>\n",
       "      <td>4</td>\n",
       "      <td>Positif</td>\n",
       "    </tr>\n",
       "    <tr>\n",
       "      <th>5</th>\n",
       "      <td>cliente juliema</td>\n",
       "      <td>Ce service sur place est d un grand secours. R...</td>\n",
       "      <td>5</td>\n",
       "      <td>Positif</td>\n",
       "    </tr>\n",
       "    <tr>\n",
       "      <th>6</th>\n",
       "      <td>cliente</td>\n",
       "      <td>La commande sur internet c'est très bien passé...</td>\n",
       "      <td>5</td>\n",
       "      <td>Positif</td>\n",
       "    </tr>\n",
       "    <tr>\n",
       "      <th>7</th>\n",
       "      <td>Manu</td>\n",
       "      <td>RAS, le rapport qualité prix est très correct....</td>\n",
       "      <td>5</td>\n",
       "      <td>Positif</td>\n",
       "    </tr>\n",
       "    <tr>\n",
       "      <th>8</th>\n",
       "      <td>Xavier</td>\n",
       "      <td>Fidèle depuis de nombreuses années j aï toujou...</td>\n",
       "      <td>5</td>\n",
       "      <td>Positif</td>\n",
       "    </tr>\n",
       "    <tr>\n",
       "      <th>9</th>\n",
       "      <td>Sonia Nutrition</td>\n",
       "      <td>M'a été recommandé. Meilleur rapport qualité p...</td>\n",
       "      <td>5</td>\n",
       "      <td>Positif</td>\n",
       "    </tr>\n",
       "  </tbody>\n",
       "</table>\n",
       "</div>"
      ],
      "text/plain": [
       "            Client                                        Commentaire  Note  \\\n",
       "0    marc lesterpt  Je commande mes pneus de motos et de voitures ...     5   \n",
       "1       Séverine M  BonjourLe site est génial, très bien expliqué ...     5   \n",
       "2       PINTO NUNO  Tout était parfait, timing parfait dans les da...     5   \n",
       "3           client  Pneus d'un tres bon rapport qualité prix. Les ...     5   \n",
       "4          Vignaux  Bon suivi de la commande,les questions sont im...     4   \n",
       "5  cliente juliema  Ce service sur place est d un grand secours. R...     5   \n",
       "6          cliente  La commande sur internet c'est très bien passé...     5   \n",
       "7             Manu  RAS, le rapport qualité prix est très correct....     5   \n",
       "8           Xavier  Fidèle depuis de nombreuses années j aï toujou...     5   \n",
       "9  Sonia Nutrition  M'a été recommandé. Meilleur rapport qualité p...     5   \n",
       "\n",
       "  Sentiment  \n",
       "0   Positif  \n",
       "1   Positif  \n",
       "2   Positif  \n",
       "3   Positif  \n",
       "4   Positif  \n",
       "5   Positif  \n",
       "6   Positif  \n",
       "7   Positif  \n",
       "8   Positif  \n",
       "9   Positif  "
      ]
     },
     "execution_count": 2,
     "metadata": {},
     "output_type": "execute_result"
    }
   ],
   "source": [
    "df_test = pd.read_excel(\"df_clean.xlsx\")\n",
    "df_test.head(10)"
   ]
  },
  {
   "cell_type": "code",
   "execution_count": 3,
   "id": "4ddb072a",
   "metadata": {
    "scrolled": true
   },
   "outputs": [
    {
     "name": "stderr",
     "output_type": "stream",
     "text": [
      "C:\\Users\\micka\\AppData\\Local\\Temp\\ipykernel_1276\\550896256.py:2: FutureWarning: The default value of regex will change from True to False in a future version.\n",
      "  df_test['Commentaire'] = df_test['Commentaire'].str.replace('[^a-zA-Z\\s]', '').str.lower()\n"
     ]
    },
    {
     "data": {
      "text/html": [
       "<div>\n",
       "<style scoped>\n",
       "    .dataframe tbody tr th:only-of-type {\n",
       "        vertical-align: middle;\n",
       "    }\n",
       "\n",
       "    .dataframe tbody tr th {\n",
       "        vertical-align: top;\n",
       "    }\n",
       "\n",
       "    .dataframe thead th {\n",
       "        text-align: right;\n",
       "    }\n",
       "</style>\n",
       "<table border=\"1\" class=\"dataframe\">\n",
       "  <thead>\n",
       "    <tr style=\"text-align: right;\">\n",
       "      <th></th>\n",
       "      <th>Client</th>\n",
       "      <th>Commentaire</th>\n",
       "      <th>Note</th>\n",
       "      <th>Sentiment</th>\n",
       "    </tr>\n",
       "  </thead>\n",
       "  <tbody>\n",
       "    <tr>\n",
       "      <th>0</th>\n",
       "      <td>marc lesterpt</td>\n",
       "      <td>je commande mes pneus de motos et de voitures ...</td>\n",
       "      <td>5</td>\n",
       "      <td>Positif</td>\n",
       "    </tr>\n",
       "    <tr>\n",
       "      <th>1</th>\n",
       "      <td>Séverine M</td>\n",
       "      <td>bonjourle site est gnial trs bien expliqu pour...</td>\n",
       "      <td>5</td>\n",
       "      <td>Positif</td>\n",
       "    </tr>\n",
       "    <tr>\n",
       "      <th>2</th>\n",
       "      <td>PINTO NUNO</td>\n",
       "      <td>tout tait parfait timing parfait dans les date...</td>\n",
       "      <td>5</td>\n",
       "      <td>Positif</td>\n",
       "    </tr>\n",
       "    <tr>\n",
       "      <th>3</th>\n",
       "      <td>client</td>\n",
       "      <td>pneus dun tres bon rapport qualit prix les mei...</td>\n",
       "      <td>5</td>\n",
       "      <td>Positif</td>\n",
       "    </tr>\n",
       "    <tr>\n",
       "      <th>4</th>\n",
       "      <td>Vignaux</td>\n",
       "      <td>bon suivi de la commandeles questions sont imm...</td>\n",
       "      <td>4</td>\n",
       "      <td>Positif</td>\n",
       "    </tr>\n",
       "    <tr>\n",
       "      <th>5</th>\n",
       "      <td>cliente juliema</td>\n",
       "      <td>ce service sur place est d un grand secours ri...</td>\n",
       "      <td>5</td>\n",
       "      <td>Positif</td>\n",
       "    </tr>\n",
       "    <tr>\n",
       "      <th>6</th>\n",
       "      <td>cliente</td>\n",
       "      <td>la commande sur internet cest trs bien passe r...</td>\n",
       "      <td>5</td>\n",
       "      <td>Positif</td>\n",
       "    </tr>\n",
       "    <tr>\n",
       "      <th>7</th>\n",
       "      <td>Manu</td>\n",
       "      <td>ras le rapport qualit prix est trs correct tou...</td>\n",
       "      <td>5</td>\n",
       "      <td>Positif</td>\n",
       "    </tr>\n",
       "    <tr>\n",
       "      <th>8</th>\n",
       "      <td>Xavier</td>\n",
       "      <td>fidle depuis de nombreuses annes j a toujours ...</td>\n",
       "      <td>5</td>\n",
       "      <td>Positif</td>\n",
       "    </tr>\n",
       "    <tr>\n",
       "      <th>9</th>\n",
       "      <td>Sonia Nutrition</td>\n",
       "      <td>ma t recommand meilleur rapport qualit prix et...</td>\n",
       "      <td>5</td>\n",
       "      <td>Positif</td>\n",
       "    </tr>\n",
       "  </tbody>\n",
       "</table>\n",
       "</div>"
      ],
      "text/plain": [
       "            Client                                        Commentaire  Note  \\\n",
       "0    marc lesterpt  je commande mes pneus de motos et de voitures ...     5   \n",
       "1       Séverine M  bonjourle site est gnial trs bien expliqu pour...     5   \n",
       "2       PINTO NUNO  tout tait parfait timing parfait dans les date...     5   \n",
       "3           client  pneus dun tres bon rapport qualit prix les mei...     5   \n",
       "4          Vignaux  bon suivi de la commandeles questions sont imm...     4   \n",
       "5  cliente juliema  ce service sur place est d un grand secours ri...     5   \n",
       "6          cliente  la commande sur internet cest trs bien passe r...     5   \n",
       "7             Manu  ras le rapport qualit prix est trs correct tou...     5   \n",
       "8           Xavier  fidle depuis de nombreuses annes j a toujours ...     5   \n",
       "9  Sonia Nutrition  ma t recommand meilleur rapport qualit prix et...     5   \n",
       "\n",
       "  Sentiment  \n",
       "0   Positif  \n",
       "1   Positif  \n",
       "2   Positif  \n",
       "3   Positif  \n",
       "4   Positif  \n",
       "5   Positif  \n",
       "6   Positif  \n",
       "7   Positif  \n",
       "8   Positif  \n",
       "9   Positif  "
      ]
     },
     "execution_count": 3,
     "metadata": {},
     "output_type": "execute_result"
    }
   ],
   "source": [
    "# (a) Supprimer les caractères spéciaux, chiffres, valeurs manquantes et mettre le texte en minuscules.\n",
    "df_test['Commentaire'] = df_test['Commentaire'].str.replace('[^a-zA-Z\\s]', '').str.lower()\n",
    "df_test['Commentaire'] = df_test['Commentaire'].fillna('') \n",
    "df_test.head(10)"
   ]
  },
  {
   "cell_type": "code",
   "execution_count": 4,
   "id": "83ab9aaf",
   "metadata": {},
   "outputs": [],
   "source": [
    "# (b) Division du DataFrame en ensembles d'entraînement et de test.\n",
    "X_train, X_test, y_train, y_test = train_test_split(df_test['Commentaire'], df_test['Sentiment'], test_size=0.2, random_state=42)"
   ]
  },
  {
   "cell_type": "code",
   "execution_count": 5,
   "id": "971b12d4",
   "metadata": {},
   "outputs": [],
   "source": [
    "# (c) Vectorisation du texte avec CountVectorizer.\n",
    "vectorizer = TfidfVectorizer(stop_words=list(stop_words_french))\n",
    "X_train_vectorized = vectorizer.fit_transform(X_train)\n",
    "X_test_vectorized = vectorizer.transform(X_test)"
   ]
  },
  {
   "cell_type": "code",
   "execution_count": 6,
   "id": "b675a365",
   "metadata": {},
   "outputs": [],
   "source": [
    "# (d) Création du classificateur GradientBoostingClassifier.\n",
    "clf = make_pipeline(StandardScaler(with_mean=False), RandomForestClassifier(random_state=42))"
   ]
  },
  {
   "cell_type": "code",
   "execution_count": 7,
   "id": "9341b416",
   "metadata": {},
   "outputs": [],
   "source": [
    "# (e) Entraînement du classificateur sur l'ensemble d'entraînement.\n",
    "clf.fit(X_train_vectorized, y_train)\n",
    "y_pred = clf.predict(X_test_vectorized)"
   ]
  },
  {
   "cell_type": "code",
   "execution_count": 8,
   "id": "71a6aa1e",
   "metadata": {},
   "outputs": [
    {
     "name": "stdout",
     "output_type": "stream",
     "text": [
      "Rapport de classification :\n",
      "               precision    recall  f1-score   support\n",
      "\n",
      "      Neutre       0.51      0.01      0.02      2532\n",
      "     Négatif       0.80      0.74      0.77      7296\n",
      "     Positif       0.91      0.99      0.95     36649\n",
      "\n",
      "    accuracy                           0.89     46477\n",
      "   macro avg       0.74      0.58      0.58     46477\n",
      "weighted avg       0.87      0.89      0.87     46477\n",
      "\n"
     ]
    }
   ],
   "source": [
    "# (f) Affichage du rapport de classification du modèle Gradient Boosting.\n",
    "print(\"Rapport de classification :\\n\", classification_report(y_test, y_pred))"
   ]
  },
  {
   "cell_type": "code",
   "execution_count": 9,
   "id": "02fcab33",
   "metadata": {},
   "outputs": [
    {
     "data": {
      "text/html": [
       "<div>\n",
       "<style scoped>\n",
       "    .dataframe tbody tr th:only-of-type {\n",
       "        vertical-align: middle;\n",
       "    }\n",
       "\n",
       "    .dataframe tbody tr th {\n",
       "        vertical-align: top;\n",
       "    }\n",
       "\n",
       "    .dataframe thead th {\n",
       "        text-align: right;\n",
       "    }\n",
       "</style>\n",
       "<table border=\"1\" class=\"dataframe\">\n",
       "  <thead>\n",
       "    <tr style=\"text-align: right;\">\n",
       "      <th>Classe prédite</th>\n",
       "      <th>Neutre</th>\n",
       "      <th>Négatif</th>\n",
       "      <th>Positif</th>\n",
       "    </tr>\n",
       "    <tr>\n",
       "      <th>Classe réelle</th>\n",
       "      <th></th>\n",
       "      <th></th>\n",
       "      <th></th>\n",
       "    </tr>\n",
       "  </thead>\n",
       "  <tbody>\n",
       "    <tr>\n",
       "      <th>Neutre</th>\n",
       "      <td>25</td>\n",
       "      <td>791</td>\n",
       "      <td>1716</td>\n",
       "    </tr>\n",
       "    <tr>\n",
       "      <th>Négatif</th>\n",
       "      <td>15</td>\n",
       "      <td>5383</td>\n",
       "      <td>1898</td>\n",
       "    </tr>\n",
       "    <tr>\n",
       "      <th>Positif</th>\n",
       "      <td>9</td>\n",
       "      <td>536</td>\n",
       "      <td>36104</td>\n",
       "    </tr>\n",
       "  </tbody>\n",
       "</table>\n",
       "</div>"
      ],
      "text/plain": [
       "Classe prédite  Neutre  Négatif  Positif\n",
       "Classe réelle                           \n",
       "Neutre              25      791     1716\n",
       "Négatif             15     5383     1898\n",
       "Positif              9      536    36104"
      ]
     },
     "execution_count": 9,
     "metadata": {},
     "output_type": "execute_result"
    }
   ],
   "source": [
    "# (g) Calcul et affichage de la matrice de confusion.\n",
    "confusion_matrix = pd.crosstab(y_test, y_pred, rownames=['Classe réelle'], colnames=['Classe prédite'])\n",
    "confusion_matrix"
   ]
  }
 ],
 "metadata": {
  "kernelspec": {
   "display_name": "Python 3 (ipykernel)",
   "language": "python",
   "name": "python3"
  },
  "language_info": {
   "codemirror_mode": {
    "name": "ipython",
    "version": 3
   },
   "file_extension": ".py",
   "mimetype": "text/x-python",
   "name": "python",
   "nbconvert_exporter": "python",
   "pygments_lexer": "ipython3",
   "version": "3.10.9"
  }
 },
 "nbformat": 4,
 "nbformat_minor": 5
}
