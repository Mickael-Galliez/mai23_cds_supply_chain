{
 "cells": [
  {
   "cell_type": "code",
   "execution_count": 1,
   "id": "220b9677",
   "metadata": {},
   "outputs": [
    {
     "data": {
      "application/javascript": [
       "IPython.notebook.set_autosave_interval(0)"
      ]
     },
     "metadata": {},
     "output_type": "display_data"
    },
    {
     "name": "stdout",
     "output_type": "stream",
     "text": [
      "Autosave disabled\n"
     ]
    },
    {
     "name": "stderr",
     "output_type": "stream",
     "text": [
      "[nltk_data] Downloading package stopwords to\n",
      "[nltk_data]     C:\\Users\\micka\\AppData\\Roaming\\nltk_data...\n",
      "[nltk_data]   Package stopwords is already up-to-date!\n"
     ]
    }
   ],
   "source": [
    "%autosave 0\n",
    "import pandas as pd\n",
    "import numpy as np\n",
    "import re\n",
    "import nltk\n",
    "from sklearn.model_selection import train_test_split\n",
    "from sklearn.feature_extraction.text import CountVectorizer\n",
    "from sklearn.ensemble import GradientBoostingClassifier\n",
    "from sklearn.metrics import classification_report, confusion_matrix\n",
    "from sklearn.preprocessing import LabelEncoder\n",
    "from sklearn.feature_extraction.text import TfidfVectorizer\n",
    "from sklearn.pipeline import make_pipeline\n",
    "from imblearn.over_sampling import RandomOverSampler\n",
    "\n",
    "# Téléchargement de la liste de stop words en français.\n",
    "nltk.download('stopwords')\n",
    "\n",
    "# Importations de la liste de stop words en français.\n",
    "from nltk.corpus import stopwords\n",
    "stop_words_french = set(stopwords.words('french'))"
   ]
  },
  {
   "cell_type": "code",
   "execution_count": 2,
   "id": "28d877e2",
   "metadata": {},
   "outputs": [
    {
     "data": {
      "text/html": [
       "<div>\n",
       "<style scoped>\n",
       "    .dataframe tbody tr th:only-of-type {\n",
       "        vertical-align: middle;\n",
       "    }\n",
       "\n",
       "    .dataframe tbody tr th {\n",
       "        vertical-align: top;\n",
       "    }\n",
       "\n",
       "    .dataframe thead th {\n",
       "        text-align: right;\n",
       "    }\n",
       "</style>\n",
       "<table border=\"1\" class=\"dataframe\">\n",
       "  <thead>\n",
       "    <tr style=\"text-align: right;\">\n",
       "      <th></th>\n",
       "      <th>Client</th>\n",
       "      <th>Commentaire</th>\n",
       "      <th>Note</th>\n",
       "      <th>Sentiment</th>\n",
       "    </tr>\n",
       "  </thead>\n",
       "  <tbody>\n",
       "    <tr>\n",
       "      <th>0</th>\n",
       "      <td>marc lesterpt</td>\n",
       "      <td>Je commande mes pneus de motos et de voitures ...</td>\n",
       "      <td>5</td>\n",
       "      <td>Positif</td>\n",
       "    </tr>\n",
       "    <tr>\n",
       "      <th>1</th>\n",
       "      <td>Séverine M</td>\n",
       "      <td>BonjourLe site est génial, très bien expliqué ...</td>\n",
       "      <td>5</td>\n",
       "      <td>Positif</td>\n",
       "    </tr>\n",
       "    <tr>\n",
       "      <th>2</th>\n",
       "      <td>PINTO NUNO</td>\n",
       "      <td>Tout était parfait, timing parfait dans les da...</td>\n",
       "      <td>5</td>\n",
       "      <td>Positif</td>\n",
       "    </tr>\n",
       "    <tr>\n",
       "      <th>3</th>\n",
       "      <td>client</td>\n",
       "      <td>Pneus d'un tres bon rapport qualité prix. Les ...</td>\n",
       "      <td>5</td>\n",
       "      <td>Positif</td>\n",
       "    </tr>\n",
       "    <tr>\n",
       "      <th>4</th>\n",
       "      <td>Vignaux</td>\n",
       "      <td>Bon suivi de la commande,les questions sont im...</td>\n",
       "      <td>4</td>\n",
       "      <td>Positif</td>\n",
       "    </tr>\n",
       "    <tr>\n",
       "      <th>5</th>\n",
       "      <td>cliente juliema</td>\n",
       "      <td>Ce service sur place est d un grand secours. R...</td>\n",
       "      <td>5</td>\n",
       "      <td>Positif</td>\n",
       "    </tr>\n",
       "    <tr>\n",
       "      <th>6</th>\n",
       "      <td>cliente</td>\n",
       "      <td>La commande sur internet c'est très bien passé...</td>\n",
       "      <td>5</td>\n",
       "      <td>Positif</td>\n",
       "    </tr>\n",
       "    <tr>\n",
       "      <th>7</th>\n",
       "      <td>Manu</td>\n",
       "      <td>RAS, le rapport qualité prix est très correct....</td>\n",
       "      <td>5</td>\n",
       "      <td>Positif</td>\n",
       "    </tr>\n",
       "    <tr>\n",
       "      <th>8</th>\n",
       "      <td>Xavier</td>\n",
       "      <td>Fidèle depuis de nombreuses années j aï toujou...</td>\n",
       "      <td>5</td>\n",
       "      <td>Positif</td>\n",
       "    </tr>\n",
       "    <tr>\n",
       "      <th>9</th>\n",
       "      <td>Sonia Nutrition</td>\n",
       "      <td>M'a été recommandé. Meilleur rapport qualité p...</td>\n",
       "      <td>5</td>\n",
       "      <td>Positif</td>\n",
       "    </tr>\n",
       "  </tbody>\n",
       "</table>\n",
       "</div>"
      ],
      "text/plain": [
       "            Client                                        Commentaire  Note  \\\n",
       "0    marc lesterpt  Je commande mes pneus de motos et de voitures ...     5   \n",
       "1       Séverine M  BonjourLe site est génial, très bien expliqué ...     5   \n",
       "2       PINTO NUNO  Tout était parfait, timing parfait dans les da...     5   \n",
       "3           client  Pneus d'un tres bon rapport qualité prix. Les ...     5   \n",
       "4          Vignaux  Bon suivi de la commande,les questions sont im...     4   \n",
       "5  cliente juliema  Ce service sur place est d un grand secours. R...     5   \n",
       "6          cliente  La commande sur internet c'est très bien passé...     5   \n",
       "7             Manu  RAS, le rapport qualité prix est très correct....     5   \n",
       "8           Xavier  Fidèle depuis de nombreuses années j aï toujou...     5   \n",
       "9  Sonia Nutrition  M'a été recommandé. Meilleur rapport qualité p...     5   \n",
       "\n",
       "  Sentiment  \n",
       "0   Positif  \n",
       "1   Positif  \n",
       "2   Positif  \n",
       "3   Positif  \n",
       "4   Positif  \n",
       "5   Positif  \n",
       "6   Positif  \n",
       "7   Positif  \n",
       "8   Positif  \n",
       "9   Positif  "
      ]
     },
     "execution_count": 2,
     "metadata": {},
     "output_type": "execute_result"
    }
   ],
   "source": [
    "# Lecture du fichier.\n",
    "df_test = pd.read_excel(\"df_clean.xlsx\")\n",
    "df_test.head(10)"
   ]
  },
  {
   "cell_type": "code",
   "execution_count": 3,
   "id": "4ddb072a",
   "metadata": {
    "scrolled": true
   },
   "outputs": [
    {
     "name": "stderr",
     "output_type": "stream",
     "text": [
      "C:\\Users\\micka\\AppData\\Local\\Temp\\ipykernel_5684\\2210573010.py:3: FutureWarning: The default value of regex will change from True to False in a future version.\n",
      "  df_test['Commentaire'] = df_test['Commentaire'].str.replace('[^a-zA-Z\\s]', '').str.lower()\n"
     ]
    },
    {
     "data": {
      "text/html": [
       "<div>\n",
       "<style scoped>\n",
       "    .dataframe tbody tr th:only-of-type {\n",
       "        vertical-align: middle;\n",
       "    }\n",
       "\n",
       "    .dataframe tbody tr th {\n",
       "        vertical-align: top;\n",
       "    }\n",
       "\n",
       "    .dataframe thead th {\n",
       "        text-align: right;\n",
       "    }\n",
       "</style>\n",
       "<table border=\"1\" class=\"dataframe\">\n",
       "  <thead>\n",
       "    <tr style=\"text-align: right;\">\n",
       "      <th></th>\n",
       "      <th>Client</th>\n",
       "      <th>Commentaire</th>\n",
       "      <th>Note</th>\n",
       "      <th>Sentiment</th>\n",
       "    </tr>\n",
       "  </thead>\n",
       "  <tbody>\n",
       "    <tr>\n",
       "      <th>0</th>\n",
       "      <td>marc lesterpt</td>\n",
       "      <td>je commande mes pneus de motos et de voitures ...</td>\n",
       "      <td>5</td>\n",
       "      <td>Positif</td>\n",
       "    </tr>\n",
       "    <tr>\n",
       "      <th>1</th>\n",
       "      <td>Séverine M</td>\n",
       "      <td>bonjourle site est gnial trs bien expliqu pour...</td>\n",
       "      <td>5</td>\n",
       "      <td>Positif</td>\n",
       "    </tr>\n",
       "    <tr>\n",
       "      <th>2</th>\n",
       "      <td>PINTO NUNO</td>\n",
       "      <td>tout tait parfait timing parfait dans les date...</td>\n",
       "      <td>5</td>\n",
       "      <td>Positif</td>\n",
       "    </tr>\n",
       "    <tr>\n",
       "      <th>3</th>\n",
       "      <td>client</td>\n",
       "      <td>pneus dun tres bon rapport qualit prix les mei...</td>\n",
       "      <td>5</td>\n",
       "      <td>Positif</td>\n",
       "    </tr>\n",
       "    <tr>\n",
       "      <th>4</th>\n",
       "      <td>Vignaux</td>\n",
       "      <td>bon suivi de la commandeles questions sont imm...</td>\n",
       "      <td>4</td>\n",
       "      <td>Positif</td>\n",
       "    </tr>\n",
       "    <tr>\n",
       "      <th>5</th>\n",
       "      <td>cliente juliema</td>\n",
       "      <td>ce service sur place est d un grand secours ri...</td>\n",
       "      <td>5</td>\n",
       "      <td>Positif</td>\n",
       "    </tr>\n",
       "    <tr>\n",
       "      <th>6</th>\n",
       "      <td>cliente</td>\n",
       "      <td>la commande sur internet cest trs bien passe r...</td>\n",
       "      <td>5</td>\n",
       "      <td>Positif</td>\n",
       "    </tr>\n",
       "    <tr>\n",
       "      <th>7</th>\n",
       "      <td>Manu</td>\n",
       "      <td>ras le rapport qualit prix est trs correct tou...</td>\n",
       "      <td>5</td>\n",
       "      <td>Positif</td>\n",
       "    </tr>\n",
       "    <tr>\n",
       "      <th>8</th>\n",
       "      <td>Xavier</td>\n",
       "      <td>fidle depuis de nombreuses annes j a toujours ...</td>\n",
       "      <td>5</td>\n",
       "      <td>Positif</td>\n",
       "    </tr>\n",
       "    <tr>\n",
       "      <th>9</th>\n",
       "      <td>Sonia Nutrition</td>\n",
       "      <td>ma t recommand meilleur rapport qualit prix et...</td>\n",
       "      <td>5</td>\n",
       "      <td>Positif</td>\n",
       "    </tr>\n",
       "  </tbody>\n",
       "</table>\n",
       "</div>"
      ],
      "text/plain": [
       "            Client                                        Commentaire  Note  \\\n",
       "0    marc lesterpt  je commande mes pneus de motos et de voitures ...     5   \n",
       "1       Séverine M  bonjourle site est gnial trs bien expliqu pour...     5   \n",
       "2       PINTO NUNO  tout tait parfait timing parfait dans les date...     5   \n",
       "3           client  pneus dun tres bon rapport qualit prix les mei...     5   \n",
       "4          Vignaux  bon suivi de la commandeles questions sont imm...     4   \n",
       "5  cliente juliema  ce service sur place est d un grand secours ri...     5   \n",
       "6          cliente  la commande sur internet cest trs bien passe r...     5   \n",
       "7             Manu  ras le rapport qualit prix est trs correct tou...     5   \n",
       "8           Xavier  fidle depuis de nombreuses annes j a toujours ...     5   \n",
       "9  Sonia Nutrition  ma t recommand meilleur rapport qualit prix et...     5   \n",
       "\n",
       "  Sentiment  \n",
       "0   Positif  \n",
       "1   Positif  \n",
       "2   Positif  \n",
       "3   Positif  \n",
       "4   Positif  \n",
       "5   Positif  \n",
       "6   Positif  \n",
       "7   Positif  \n",
       "8   Positif  \n",
       "9   Positif  "
      ]
     },
     "execution_count": 3,
     "metadata": {},
     "output_type": "execute_result"
    }
   ],
   "source": [
    "# Suppression des caractères spéciaux, chiffres, valeurs manquantes et texte en minuscules.\n",
    "df_test['Sentiment'] = df_test['Sentiment'].replace('Neutre', 'Positif')\n",
    "df_test['Commentaire'] = df_test['Commentaire'].str.replace('[^a-zA-Z\\s]', '').str.lower()\n",
    "df_test['Commentaire'] = df_test['Commentaire'].fillna('') \n",
    "df_test.head(10)"
   ]
  },
  {
   "cell_type": "code",
   "execution_count": 4,
   "id": "83ab9aaf",
   "metadata": {},
   "outputs": [],
   "source": [
    "# Division du DataFrame en ensembles d'entraînement et de test.\n",
    "X_train, X_test, y_train, y_test = train_test_split(df_test['Commentaire'], df_test['Sentiment'], test_size=0.2, random_state=42)"
   ]
  },
  {
   "cell_type": "code",
   "execution_count": 5,
   "id": "fb3b8b6a",
   "metadata": {},
   "outputs": [],
   "source": [
    "# Appliquer une vectorisation de texte via CountVectorizer avec stop words en français.\n",
    "vectorizer = CountVectorizer(stop_words=list(stop_words_french))\n",
    "X_train_vec = vectorizer.fit_transform(X_train)\n",
    "X_test_vec = vectorizer.transform(X_test)"
   ]
  },
  {
   "cell_type": "code",
   "execution_count": 6,
   "id": "ab186990",
   "metadata": {},
   "outputs": [],
   "source": [
    "# Appliquer l'oversampling sur l'ensemble d'entraînement seulement.\n",
    "oversampler = RandomOverSampler(random_state=42)\n",
    "X_train_resampled, y_train_resampled = oversampler.fit_resample(X_train_vec, y_train)"
   ]
  },
  {
   "cell_type": "code",
   "execution_count": 7,
   "id": "450dc6bd",
   "metadata": {},
   "outputs": [
    {
     "data": {
      "text/html": [
       "<style>#sk-container-id-1 {color: black;background-color: white;}#sk-container-id-1 pre{padding: 0;}#sk-container-id-1 div.sk-toggleable {background-color: white;}#sk-container-id-1 label.sk-toggleable__label {cursor: pointer;display: block;width: 100%;margin-bottom: 0;padding: 0.3em;box-sizing: border-box;text-align: center;}#sk-container-id-1 label.sk-toggleable__label-arrow:before {content: \"▸\";float: left;margin-right: 0.25em;color: #696969;}#sk-container-id-1 label.sk-toggleable__label-arrow:hover:before {color: black;}#sk-container-id-1 div.sk-estimator:hover label.sk-toggleable__label-arrow:before {color: black;}#sk-container-id-1 div.sk-toggleable__content {max-height: 0;max-width: 0;overflow: hidden;text-align: left;background-color: #f0f8ff;}#sk-container-id-1 div.sk-toggleable__content pre {margin: 0.2em;color: black;border-radius: 0.25em;background-color: #f0f8ff;}#sk-container-id-1 input.sk-toggleable__control:checked~div.sk-toggleable__content {max-height: 200px;max-width: 100%;overflow: auto;}#sk-container-id-1 input.sk-toggleable__control:checked~label.sk-toggleable__label-arrow:before {content: \"▾\";}#sk-container-id-1 div.sk-estimator input.sk-toggleable__control:checked~label.sk-toggleable__label {background-color: #d4ebff;}#sk-container-id-1 div.sk-label input.sk-toggleable__control:checked~label.sk-toggleable__label {background-color: #d4ebff;}#sk-container-id-1 input.sk-hidden--visually {border: 0;clip: rect(1px 1px 1px 1px);clip: rect(1px, 1px, 1px, 1px);height: 1px;margin: -1px;overflow: hidden;padding: 0;position: absolute;width: 1px;}#sk-container-id-1 div.sk-estimator {font-family: monospace;background-color: #f0f8ff;border: 1px dotted black;border-radius: 0.25em;box-sizing: border-box;margin-bottom: 0.5em;}#sk-container-id-1 div.sk-estimator:hover {background-color: #d4ebff;}#sk-container-id-1 div.sk-parallel-item::after {content: \"\";width: 100%;border-bottom: 1px solid gray;flex-grow: 1;}#sk-container-id-1 div.sk-label:hover label.sk-toggleable__label {background-color: #d4ebff;}#sk-container-id-1 div.sk-serial::before {content: \"\";position: absolute;border-left: 1px solid gray;box-sizing: border-box;top: 0;bottom: 0;left: 50%;z-index: 0;}#sk-container-id-1 div.sk-serial {display: flex;flex-direction: column;align-items: center;background-color: white;padding-right: 0.2em;padding-left: 0.2em;position: relative;}#sk-container-id-1 div.sk-item {position: relative;z-index: 1;}#sk-container-id-1 div.sk-parallel {display: flex;align-items: stretch;justify-content: center;background-color: white;position: relative;}#sk-container-id-1 div.sk-item::before, #sk-container-id-1 div.sk-parallel-item::before {content: \"\";position: absolute;border-left: 1px solid gray;box-sizing: border-box;top: 0;bottom: 0;left: 50%;z-index: -1;}#sk-container-id-1 div.sk-parallel-item {display: flex;flex-direction: column;z-index: 1;position: relative;background-color: white;}#sk-container-id-1 div.sk-parallel-item:first-child::after {align-self: flex-end;width: 50%;}#sk-container-id-1 div.sk-parallel-item:last-child::after {align-self: flex-start;width: 50%;}#sk-container-id-1 div.sk-parallel-item:only-child::after {width: 0;}#sk-container-id-1 div.sk-dashed-wrapped {border: 1px dashed gray;margin: 0 0.4em 0.5em 0.4em;box-sizing: border-box;padding-bottom: 0.4em;background-color: white;}#sk-container-id-1 div.sk-label label {font-family: monospace;font-weight: bold;display: inline-block;line-height: 1.2em;}#sk-container-id-1 div.sk-label-container {text-align: center;}#sk-container-id-1 div.sk-container {/* jupyter's `normalize.less` sets `[hidden] { display: none; }` but bootstrap.min.css set `[hidden] { display: none !important; }` so we also need the `!important` here to be able to override the default hidden behavior on the sphinx rendered scikit-learn.org. See: https://github.com/scikit-learn/scikit-learn/issues/21755 */display: inline-block !important;position: relative;}#sk-container-id-1 div.sk-text-repr-fallback {display: none;}</style><div id=\"sk-container-id-1\" class=\"sk-top-container\"><div class=\"sk-text-repr-fallback\"><pre>GradientBoostingClassifier()</pre><b>In a Jupyter environment, please rerun this cell to show the HTML representation or trust the notebook. <br />On GitHub, the HTML representation is unable to render, please try loading this page with nbviewer.org.</b></div><div class=\"sk-container\" hidden><div class=\"sk-item\"><div class=\"sk-estimator sk-toggleable\"><input class=\"sk-toggleable__control sk-hidden--visually\" id=\"sk-estimator-id-1\" type=\"checkbox\" checked><label for=\"sk-estimator-id-1\" class=\"sk-toggleable__label sk-toggleable__label-arrow\">GradientBoostingClassifier</label><div class=\"sk-toggleable__content\"><pre>GradientBoostingClassifier()</pre></div></div></div></div></div>"
      ],
      "text/plain": [
       "GradientBoostingClassifier()"
      ]
     },
     "execution_count": 7,
     "metadata": {},
     "output_type": "execute_result"
    }
   ],
   "source": [
    "# Créer un classificateur clf en utilisant la méthode GradientBoostingClassifier.\n",
    "clf = GradientBoostingClassifier()\n",
    "\n",
    "# Entraîner le classificateur sur l'ensemble d'entraînement resamplé.\n",
    "clf.fit(X_train_resampled, y_train_resampled)"
   ]
  },
  {
   "cell_type": "code",
   "execution_count": 8,
   "id": "be59377c",
   "metadata": {},
   "outputs": [],
   "source": [
    "# (g) Faire des prédictions sur l'ensemble de test original (non vectorisé)\n",
    "X_test_resampled, y_test_resampled = oversampler.fit_resample(X_test_vec, y_test)\n",
    "y_pred = clf.predict(X_test_resampled)"
   ]
  },
  {
   "cell_type": "code",
   "execution_count": 9,
   "id": "71a6aa1e",
   "metadata": {},
   "outputs": [
    {
     "name": "stdout",
     "output_type": "stream",
     "text": [
      "Rapport de classification :\n",
      "               precision    recall  f1-score   support\n",
      "\n",
      "     Négatif       0.87      0.88      0.88     39181\n",
      "     Positif       0.88      0.87      0.87     39181\n",
      "\n",
      "    accuracy                           0.87     78362\n",
      "   macro avg       0.87      0.87      0.87     78362\n",
      "weighted avg       0.87      0.87      0.87     78362\n",
      "\n"
     ]
    }
   ],
   "source": [
    "# Affichage du rapport de classification du modèle Gradient Boosting.\n",
    "print(\"Rapport de classification :\\n\", classification_report(y_test_resampled, y_pred))"
   ]
  },
  {
   "cell_type": "code",
   "execution_count": 10,
   "id": "02fcab33",
   "metadata": {},
   "outputs": [
    {
     "data": {
      "text/html": [
       "<div>\n",
       "<style scoped>\n",
       "    .dataframe tbody tr th:only-of-type {\n",
       "        vertical-align: middle;\n",
       "    }\n",
       "\n",
       "    .dataframe tbody tr th {\n",
       "        vertical-align: top;\n",
       "    }\n",
       "\n",
       "    .dataframe thead th {\n",
       "        text-align: right;\n",
       "    }\n",
       "</style>\n",
       "<table border=\"1\" class=\"dataframe\">\n",
       "  <thead>\n",
       "    <tr style=\"text-align: right;\">\n",
       "      <th>Classe prédite</th>\n",
       "      <th>Négatif</th>\n",
       "      <th>Positif</th>\n",
       "    </tr>\n",
       "    <tr>\n",
       "      <th>Classe réelle</th>\n",
       "      <th></th>\n",
       "      <th></th>\n",
       "    </tr>\n",
       "  </thead>\n",
       "  <tbody>\n",
       "    <tr>\n",
       "      <th>Négatif</th>\n",
       "      <td>34503</td>\n",
       "      <td>4678</td>\n",
       "    </tr>\n",
       "    <tr>\n",
       "      <th>Positif</th>\n",
       "      <td>5130</td>\n",
       "      <td>34051</td>\n",
       "    </tr>\n",
       "  </tbody>\n",
       "</table>\n",
       "</div>"
      ],
      "text/plain": [
       "Classe prédite  Négatif  Positif\n",
       "Classe réelle                   \n",
       "Négatif           34503     4678\n",
       "Positif            5130    34051"
      ]
     },
     "execution_count": 10,
     "metadata": {},
     "output_type": "execute_result"
    }
   ],
   "source": [
    "# Calcul et affichage de la matrice de confusion.\n",
    "confusion_matrix = pd.crosstab(y_test_resampled, y_pred, rownames=['Classe réelle'], colnames=['Classe prédite'])\n",
    "confusion_matrix"
   ]
  }
 ],
 "metadata": {
  "kernelspec": {
   "display_name": "Python 3 (ipykernel)",
   "language": "python",
   "name": "python3"
  },
  "language_info": {
   "codemirror_mode": {
    "name": "ipython",
    "version": 3
   },
   "file_extension": ".py",
   "mimetype": "text/x-python",
   "name": "python",
   "nbconvert_exporter": "python",
   "pygments_lexer": "ipython3",
   "version": "3.10.9"
  }
 },
 "nbformat": 4,
 "nbformat_minor": 5
}
